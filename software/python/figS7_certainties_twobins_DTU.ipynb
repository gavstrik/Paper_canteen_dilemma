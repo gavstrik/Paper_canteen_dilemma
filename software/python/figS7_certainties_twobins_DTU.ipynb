{
 "cells": [
  {
   "cell_type": "code",
   "execution_count": 1,
   "metadata": {},
   "outputs": [
    {
     "name": "stderr",
     "output_type": "stream",
     "text": [
      "c:\\users\\hjl161\\appdata\\local\\programs\\python\\python37\\lib\\site-packages\\statsmodels\\tools\\_testing.py:19: FutureWarning: pandas.util.testing is deprecated. Use the functions in the public API at pandas.testing instead.\n",
      "  import pandas.util.testing as tm\n"
     ]
    }
   ],
   "source": [
    "%matplotlib inline\n",
    "import io\n",
    "import os\n",
    "import matplotlib.pyplot as plt\n",
    "import matplotlib.patches as patch\n",
    "import pandas as pd\n",
    "import numpy as np\n",
    "import seaborn as sns\n",
    "sns.set_style('darkgrid')\n",
    "sns.set_context('notebook')"
   ]
  },
  {
   "cell_type": "code",
   "execution_count": 2,
   "metadata": {},
   "outputs": [],
   "source": [
    "#datafile_AMT = '../data/MTurk_anonymous.xlsx'\n",
    "datafile_DTU1 = '../data/DTU1_anonymous.xlsx'\n",
    "datafile_DTU2 = '../data/DTU2_anonymous.xlsx'"
   ]
  },
  {
   "cell_type": "code",
   "execution_count": 3,
   "metadata": {},
   "outputs": [],
   "source": [
    "#df_MTurk = pd.DataFrame(pd.read_excel(datafile_AMT))\n",
    "#df_MTurk.drop(df_MTurk.columns[df_MTurk.columns.str.contains('unnamed',case = False)],axis = 1, inplace = True)\n",
    "df_DTU1 = pd.DataFrame(pd.read_excel(datafile_DTU1))\n",
    "df_DTU1.drop(df_DTU1.columns[df_DTU1.columns.str.contains('unnamed',case = False)],axis = 1, inplace = True)\n",
    "df_DTU2 = pd.DataFrame(pd.read_excel(datafile_DTU2))\n",
    "df_DTU2.drop(df_DTU2.columns[df_DTU2.columns.str.contains('unnamed',case = False)],axis = 1, inplace = True)"
   ]
  },
  {
   "cell_type": "markdown",
   "metadata": {},
   "source": [
    "In the following, we want to partition responses according to how many times a player has miscoordinated before. For a start, we concatenate all three experiments into one dataframe:"
   ]
  },
  {
   "cell_type": "code",
   "execution_count": 4,
   "metadata": {},
   "outputs": [],
   "source": [
    "dfd = pd.concat([\n",
    "#                 df_MTurk.join(pd.Series(['MTurk']*len(df_MTurk), name='experiment')), \n",
    "                df_DTU1.join(pd.Series(['DTU1']*len(df_DTU1), name='experiment')),\n",
    "                df_DTU2.join(pd.Series(['DTU2']*len(df_DTU2), name='experiment'))],\n",
    "                ignore_index=True)"
   ]
  },
  {
   "cell_type": "code",
   "execution_count": 5,
   "metadata": {},
   "outputs": [
    {
     "data": {
      "text/plain": [
       "(    session      code  group  id_in_group  round  arrival  choice  certainty  \\\n",
       " 0  skcucks5  luykbvrv      2            1      1      8.1       1       0.99   \n",
       " 1  skcucks5  4vnbdkgv      2            2      1      8.2       1       0.99   \n",
       " 2  skcucks5  luykbvrv      2            1      2      8.2       1       0.99   \n",
       " 3  skcucks5  4vnbdkgv      2            2      2      8.3       1       0.99   \n",
       " 4  skcucks5  luykbvrv      2            1      3      8.3       1       0.99   \n",
       " \n",
       "    bonus strategy  simple  cutoff  fault  payoff experiment  \n",
       " 0  -0.01      NaN     NaN     NaN    NaN    0.35       DTU1  \n",
       " 1  -0.01      NaN     NaN     NaN    NaN    7.32       DTU1  \n",
       " 2  -0.01      NaN     NaN     NaN    NaN    0.35       DTU1  \n",
       " 3  -0.01      NaN     NaN     NaN    NaN    7.32       DTU1  \n",
       " 4  -0.01      NaN     NaN     NaN    NaN    0.35       DTU1  , 3172)"
      ]
     },
     "execution_count": 5,
     "metadata": {},
     "output_type": "execute_result"
    }
   ],
   "source": [
    "dfd.head(), len(dfd)"
   ]
  },
  {
   "cell_type": "markdown",
   "metadata": {},
   "source": [
    "Now we group the data into response pairs"
   ]
  },
  {
   "cell_type": "code",
   "execution_count": 6,
   "metadata": {},
   "outputs": [
    {
     "data": {
      "text/html": [
       "<div>\n",
       "<style scoped>\n",
       "    .dataframe tbody tr th:only-of-type {\n",
       "        vertical-align: middle;\n",
       "    }\n",
       "\n",
       "    .dataframe tbody tr th {\n",
       "        vertical-align: top;\n",
       "    }\n",
       "\n",
       "    .dataframe thead th {\n",
       "        text-align: right;\n",
       "    }\n",
       "</style>\n",
       "<table border=\"1\" class=\"dataframe\">\n",
       "  <thead>\n",
       "    <tr style=\"text-align: right;\">\n",
       "      <th></th>\n",
       "      <th>session</th>\n",
       "      <th>group</th>\n",
       "      <th>round</th>\n",
       "      <th>code</th>\n",
       "      <th>id_in_group</th>\n",
       "      <th>arrival</th>\n",
       "      <th>choice</th>\n",
       "      <th>certainty</th>\n",
       "    </tr>\n",
       "  </thead>\n",
       "  <tbody>\n",
       "    <tr>\n",
       "      <th>0</th>\n",
       "      <td>px95dqer</td>\n",
       "      <td>2</td>\n",
       "      <td>1</td>\n",
       "      <td>(awyxy9kj, r6ol7nz6)</td>\n",
       "      <td>(1, 2)</td>\n",
       "      <td>(8.1, 8.0)</td>\n",
       "      <td>(1, 1)</td>\n",
       "      <td>(0.875, 0.99)</td>\n",
       "    </tr>\n",
       "    <tr>\n",
       "      <th>1</th>\n",
       "      <td>px95dqer</td>\n",
       "      <td>2</td>\n",
       "      <td>2</td>\n",
       "      <td>(awyxy9kj, r6ol7nz6)</td>\n",
       "      <td>(1, 2)</td>\n",
       "      <td>(8.1, 8.0)</td>\n",
       "      <td>(0, 1)</td>\n",
       "      <td>(0.99, 0.99)</td>\n",
       "    </tr>\n",
       "    <tr>\n",
       "      <th>2</th>\n",
       "      <td>px95dqer</td>\n",
       "      <td>2</td>\n",
       "      <td>3</td>\n",
       "      <td>(awyxy9kj, r6ol7nz6)</td>\n",
       "      <td>(1, 2)</td>\n",
       "      <td>(8.2, 8.3)</td>\n",
       "      <td>(1, 1)</td>\n",
       "      <td>(0.5, 0.5)</td>\n",
       "    </tr>\n",
       "    <tr>\n",
       "      <th>3</th>\n",
       "      <td>px95dqer</td>\n",
       "      <td>2</td>\n",
       "      <td>4</td>\n",
       "      <td>(awyxy9kj, r6ol7nz6)</td>\n",
       "      <td>(1, 2)</td>\n",
       "      <td>(8.1, 8.0)</td>\n",
       "      <td>(1, 1)</td>\n",
       "      <td>(0.99, 0.99)</td>\n",
       "    </tr>\n",
       "    <tr>\n",
       "      <th>4</th>\n",
       "      <td>px95dqer</td>\n",
       "      <td>2</td>\n",
       "      <td>5</td>\n",
       "      <td>(awyxy9kj, r6ol7nz6)</td>\n",
       "      <td>(1, 2)</td>\n",
       "      <td>(8.2, 8.3)</td>\n",
       "      <td>(1, 1)</td>\n",
       "      <td>(0.99, 0.5)</td>\n",
       "    </tr>\n",
       "  </tbody>\n",
       "</table>\n",
       "</div>"
      ],
      "text/plain": [
       "    session  group  round                  code id_in_group     arrival  \\\n",
       "0  px95dqer      2      1  (awyxy9kj, r6ol7nz6)      (1, 2)  (8.1, 8.0)   \n",
       "1  px95dqer      2      2  (awyxy9kj, r6ol7nz6)      (1, 2)  (8.1, 8.0)   \n",
       "2  px95dqer      2      3  (awyxy9kj, r6ol7nz6)      (1, 2)  (8.2, 8.3)   \n",
       "3  px95dqer      2      4  (awyxy9kj, r6ol7nz6)      (1, 2)  (8.1, 8.0)   \n",
       "4  px95dqer      2      5  (awyxy9kj, r6ol7nz6)      (1, 2)  (8.2, 8.3)   \n",
       "\n",
       "   choice      certainty  \n",
       "0  (1, 1)  (0.875, 0.99)  \n",
       "1  (0, 1)   (0.99, 0.99)  \n",
       "2  (1, 1)     (0.5, 0.5)  \n",
       "3  (1, 1)   (0.99, 0.99)  \n",
       "4  (1, 1)    (0.99, 0.5)  "
      ]
     },
     "execution_count": 6,
     "metadata": {},
     "output_type": "execute_result"
    }
   ],
   "source": [
    "df = dfd.groupby(['session', 'group', 'round'], as_index=False)[['code', 'id_in_group', 'arrival', 'choice', 'certainty']].agg(lambda x: tuple(x))\n",
    "df.head()"
   ]
  },
  {
   "cell_type": "code",
   "execution_count": 7,
   "metadata": {},
   "outputs": [],
   "source": [
    "# initialize new dataframes that will hold data with a condition. df0 will contain all choices \n",
    "# having had zero previous miscoordinations, while df1_ will contain all choices having had one\n",
    "# or more previous miscoordinations\n",
    "df0 = pd.DataFrame(columns=df.columns)\n",
    "df1_ = pd.DataFrame(columns=df.columns)"
   ]
  },
  {
   "cell_type": "code",
   "execution_count": 8,
   "metadata": {},
   "outputs": [],
   "source": [
    "# partition the dataframe into two bins - the first having 0 and 1, and the other 2 or more\n",
    "# miscoordinations:\n",
    "sessions = df.session.unique()\n",
    "for session in sessions:\n",
    "    df_session = df[df.session == session]\n",
    "    groups = df_session.group.unique()\n",
    "    for group in groups:\n",
    "        df_group = df_session[df_session.group == group]\n",
    "        miss = 0\n",
    "        for idx, row in df_group.iterrows():\n",
    "            if sum(row['choice']) != 1:\n",
    "                if miss == 0:\n",
    "                    df0 = df0.append(row, ignore_index=True)\n",
    "                else:\n",
    "                    df1_ = df1_.append(row, ignore_index=True)\n",
    "            else:\n",
    "                if miss == 0:\n",
    "                    df0 = df0.append(row, ignore_index=True)\n",
    "                else:\n",
    "                    df1_ = df1_.append(row, ignore_index=True)\n",
    "                miss += 1"
   ]
  },
  {
   "cell_type": "markdown",
   "metadata": {},
   "source": [
    "Now a bit of magic: we need to separate the tuples again and create rows for each person: (see ref at https://stackoverflow.com/questions/53218931/how-to-unnest-explode-a-column-in-a-pandas-dataframe"
   ]
  },
  {
   "cell_type": "code",
   "execution_count": 9,
   "metadata": {},
   "outputs": [],
   "source": [
    "def unnesting(df, explode):\n",
    "    idx = df.index.repeat(df[explode[0]].str.len())\n",
    "    df1 = pd.concat([\n",
    "        pd.DataFrame({x: np.concatenate(df[x].values)}) for x in explode], axis=1)\n",
    "    df1.index = idx\n",
    "\n",
    "    return df1.join(df.drop(explode, 1), how='left')\n",
    "\n",
    "\n",
    "dfnew0 = unnesting(df0,['code', 'id_in_group', 'arrival', 'choice', 'certainty'])\n",
    "dfnew1_ = unnesting(df1_,['code', 'id_in_group', 'arrival', 'choice', 'certainty'])"
   ]
  },
  {
   "cell_type": "code",
   "execution_count": 10,
   "metadata": {},
   "outputs": [
    {
     "data": {
      "text/plain": [
       "(688, 2484)"
      ]
     },
     "execution_count": 10,
     "metadata": {},
     "output_type": "execute_result"
    }
   ],
   "source": [
    "dfnew0['arrival'].replace({9.0: 8.6, 9.1: 8.7}, inplace=True)\n",
    "dfnew1_['arrival'].replace({9.0: 8.6, 9.1: 8.7}, inplace=True)\n",
    "len(dfnew0), len(dfnew1_)"
   ]
  },
  {
   "cell_type": "code",
   "execution_count": 11,
   "metadata": {},
   "outputs": [
    {
     "data": {
      "text/html": [
       "<div>\n",
       "<style scoped>\n",
       "    .dataframe tbody tr th:only-of-type {\n",
       "        vertical-align: middle;\n",
       "    }\n",
       "\n",
       "    .dataframe tbody tr th {\n",
       "        vertical-align: top;\n",
       "    }\n",
       "\n",
       "    .dataframe thead th {\n",
       "        text-align: right;\n",
       "    }\n",
       "</style>\n",
       "<table border=\"1\" class=\"dataframe\">\n",
       "  <thead>\n",
       "    <tr style=\"text-align: right;\">\n",
       "      <th></th>\n",
       "      <th>code</th>\n",
       "      <th>id_in_group</th>\n",
       "      <th>arrival</th>\n",
       "      <th>choice</th>\n",
       "      <th>certainty</th>\n",
       "      <th>session</th>\n",
       "      <th>group</th>\n",
       "      <th>round</th>\n",
       "    </tr>\n",
       "  </thead>\n",
       "  <tbody>\n",
       "    <tr>\n",
       "      <th>0</th>\n",
       "      <td>awyxy9kj</td>\n",
       "      <td>1</td>\n",
       "      <td>8.1</td>\n",
       "      <td>1</td>\n",
       "      <td>0.875</td>\n",
       "      <td>px95dqer</td>\n",
       "      <td>2</td>\n",
       "      <td>1</td>\n",
       "    </tr>\n",
       "    <tr>\n",
       "      <th>0</th>\n",
       "      <td>r6ol7nz6</td>\n",
       "      <td>2</td>\n",
       "      <td>8.0</td>\n",
       "      <td>1</td>\n",
       "      <td>0.990</td>\n",
       "      <td>px95dqer</td>\n",
       "      <td>2</td>\n",
       "      <td>1</td>\n",
       "    </tr>\n",
       "    <tr>\n",
       "      <th>1</th>\n",
       "      <td>awyxy9kj</td>\n",
       "      <td>1</td>\n",
       "      <td>8.1</td>\n",
       "      <td>0</td>\n",
       "      <td>0.990</td>\n",
       "      <td>px95dqer</td>\n",
       "      <td>2</td>\n",
       "      <td>2</td>\n",
       "    </tr>\n",
       "    <tr>\n",
       "      <th>1</th>\n",
       "      <td>r6ol7nz6</td>\n",
       "      <td>2</td>\n",
       "      <td>8.0</td>\n",
       "      <td>1</td>\n",
       "      <td>0.990</td>\n",
       "      <td>px95dqer</td>\n",
       "      <td>2</td>\n",
       "      <td>2</td>\n",
       "    </tr>\n",
       "    <tr>\n",
       "      <th>2</th>\n",
       "      <td>b6erzgw2</td>\n",
       "      <td>1</td>\n",
       "      <td>8.1</td>\n",
       "      <td>1</td>\n",
       "      <td>0.990</td>\n",
       "      <td>px95dqer</td>\n",
       "      <td>3</td>\n",
       "      <td>1</td>\n",
       "    </tr>\n",
       "  </tbody>\n",
       "</table>\n",
       "</div>"
      ],
      "text/plain": [
       "       code  id_in_group  arrival  choice  certainty   session group round\n",
       "0  awyxy9kj            1      8.1       1      0.875  px95dqer     2     1\n",
       "0  r6ol7nz6            2      8.0       1      0.990  px95dqer     2     1\n",
       "1  awyxy9kj            1      8.1       0      0.990  px95dqer     2     2\n",
       "1  r6ol7nz6            2      8.0       1      0.990  px95dqer     2     2\n",
       "2  b6erzgw2            1      8.1       1      0.990  px95dqer     3     1"
      ]
     },
     "execution_count": 11,
     "metadata": {},
     "output_type": "execute_result"
    }
   ],
   "source": [
    "dfnew0.head()"
   ]
  },
  {
   "cell_type": "code",
   "execution_count": 12,
   "metadata": {},
   "outputs": [
    {
     "data": {
      "image/png": "[encoded data removed]",
      "text/plain": [
       "<Figure size 432x288 with 1 Axes>"
      ]
     },
     "metadata": {
      "needs_background": "light"
     },
     "output_type": "display_data"
    }
   ],
   "source": [
    "sns.regplot(x='arrival', y='choice', data=dfnew0, ci=95, logistic=True)\n",
    "sns.despine()"
   ]
  },
  {
   "cell_type": "code",
   "execution_count": 13,
   "metadata": {},
   "outputs": [
    {
     "data": {
      "image/png": "[encoded data removed]",
      "text/plain": [
       "<Figure size 432x288 with 1 Axes>"
      ]
     },
     "metadata": {
      "needs_background": "light"
     },
     "output_type": "display_data"
    }
   ],
   "source": [
    "sns.regplot(x='arrival', y='choice', data=dfnew1_, ci=95, logistic=True)\n",
    "sns.despine()"
   ]
  },
  {
   "cell_type": "code",
   "execution_count": 14,
   "metadata": {},
   "outputs": [],
   "source": [
    "dfall = pd.concat([dfnew0.join(pd.Series(['zero']*len(dfnew0), name='miss')), \n",
    "                   dfnew1_.join(pd.Series(['one_or_more']*len(dfnew1_), name='miss'))],\n",
    "                ignore_index=True)"
   ]
  },
  {
   "cell_type": "code",
   "execution_count": 15,
   "metadata": {},
   "outputs": [
    {
     "data": {
      "text/html": [
       "<div>\n",
       "<style scoped>\n",
       "    .dataframe tbody tr th:only-of-type {\n",
       "        vertical-align: middle;\n",
       "    }\n",
       "\n",
       "    .dataframe tbody tr th {\n",
       "        vertical-align: top;\n",
       "    }\n",
       "\n",
       "    .dataframe thead th {\n",
       "        text-align: right;\n",
       "    }\n",
       "</style>\n",
       "<table border=\"1\" class=\"dataframe\">\n",
       "  <thead>\n",
       "    <tr style=\"text-align: right;\">\n",
       "      <th></th>\n",
       "      <th>code</th>\n",
       "      <th>id_in_group</th>\n",
       "      <th>arrival</th>\n",
       "      <th>choice</th>\n",
       "      <th>certainty</th>\n",
       "      <th>session</th>\n",
       "      <th>group</th>\n",
       "      <th>round</th>\n",
       "      <th>miss</th>\n",
       "    </tr>\n",
       "  </thead>\n",
       "  <tbody>\n",
       "    <tr>\n",
       "      <th>0</th>\n",
       "      <td>awyxy9kj</td>\n",
       "      <td>1</td>\n",
       "      <td>8.1</td>\n",
       "      <td>1</td>\n",
       "      <td>0.875</td>\n",
       "      <td>px95dqer</td>\n",
       "      <td>2</td>\n",
       "      <td>1</td>\n",
       "      <td>zero</td>\n",
       "    </tr>\n",
       "    <tr>\n",
       "      <th>1</th>\n",
       "      <td>r6ol7nz6</td>\n",
       "      <td>2</td>\n",
       "      <td>8.0</td>\n",
       "      <td>1</td>\n",
       "      <td>0.990</td>\n",
       "      <td>px95dqer</td>\n",
       "      <td>2</td>\n",
       "      <td>1</td>\n",
       "      <td>zero</td>\n",
       "    </tr>\n",
       "    <tr>\n",
       "      <th>2</th>\n",
       "      <td>awyxy9kj</td>\n",
       "      <td>1</td>\n",
       "      <td>8.1</td>\n",
       "      <td>0</td>\n",
       "      <td>0.990</td>\n",
       "      <td>px95dqer</td>\n",
       "      <td>2</td>\n",
       "      <td>2</td>\n",
       "      <td>zero</td>\n",
       "    </tr>\n",
       "    <tr>\n",
       "      <th>3</th>\n",
       "      <td>r6ol7nz6</td>\n",
       "      <td>2</td>\n",
       "      <td>8.0</td>\n",
       "      <td>1</td>\n",
       "      <td>0.990</td>\n",
       "      <td>px95dqer</td>\n",
       "      <td>2</td>\n",
       "      <td>2</td>\n",
       "      <td>zero</td>\n",
       "    </tr>\n",
       "    <tr>\n",
       "      <th>4</th>\n",
       "      <td>b6erzgw2</td>\n",
       "      <td>1</td>\n",
       "      <td>8.1</td>\n",
       "      <td>1</td>\n",
       "      <td>0.990</td>\n",
       "      <td>px95dqer</td>\n",
       "      <td>3</td>\n",
       "      <td>1</td>\n",
       "      <td>zero</td>\n",
       "    </tr>\n",
       "  </tbody>\n",
       "</table>\n",
       "</div>"
      ],
      "text/plain": [
       "       code  id_in_group  arrival  choice  certainty   session group round  \\\n",
       "0  awyxy9kj            1      8.1       1      0.875  px95dqer     2     1   \n",
       "1  r6ol7nz6            2      8.0       1      0.990  px95dqer     2     1   \n",
       "2  awyxy9kj            1      8.1       0      0.990  px95dqer     2     2   \n",
       "3  r6ol7nz6            2      8.0       1      0.990  px95dqer     2     2   \n",
       "4  b6erzgw2            1      8.1       1      0.990  px95dqer     3     1   \n",
       "\n",
       "   miss  \n",
       "0  zero  \n",
       "1  zero  \n",
       "2  zero  \n",
       "3  zero  \n",
       "4  zero  "
      ]
     },
     "execution_count": 15,
     "metadata": {},
     "output_type": "execute_result"
    }
   ],
   "source": [
    "dfall.head()"
   ]
  },
  {
   "cell_type": "code",
   "execution_count": 16,
   "metadata": {},
   "outputs": [
    {
     "data": {
      "image/png": "[encoded data removed]",
      "text/plain": [
       "<Figure size 504x288 with 1 Axes>"
      ]
     },
     "metadata": {
      "needs_background": "light"
     },
     "output_type": "display_data"
    }
   ],
   "source": [
    "fig, ax = plt.subplots(figsize=(7,4))\n",
    "ax = sns.violinplot(x='arrival', y='certainty', hue=\"miss\", palette=['blue', 'orange'], split=True, data=dfall)\n",
    "ax.yaxis.tick_right()\n",
    "# ax.yaxis.set_label_position(\"right\")\n",
    "plt.ylabel('certainty of coordination', fontsize=18)\n",
    "plt.xlabel('arrival', fontsize=18)\n",
    "ax.set_xticklabels([\"8:00\", \"8:10\", \"8:20\", \"8:30\", \"8:40\", \"8:50\", \"9:00\", \"9:10\"], fontsize=14)\n",
    "plt.yticks([.5, .625, .75, .875, .99], ['\\'very uncertain\\'', '\\'slightly certain\\'', '\\'somewhat certain\\'', '\\'quite certain\\'', '\\'very certain\\''], fontsize=16)\n",
    "ax.legend_.remove()\n",
    "plt.title('DTU1 + DTU2', fontsize=16)\n",
    "plt.tight_layout()\n",
    "\n",
    "plt.rcParams[\"font.family\"] = \"sans-serif\"\n",
    "PLOTS_DIR = '../plots'\n",
    "if not os.path.exists(PLOTS_DIR):\n",
    "    os.makedirs(PLOTS_DIR)\n",
    "\n",
    "plt.savefig(os.path.join(PLOTS_DIR, 'figS7_certainties_DTU.png'),\n",
    "            bbox_inches='tight', transparent=True, dpi=300)\n",
    "plt.savefig(os.path.join(PLOTS_DIR, 'figS7_certainties_DTU.pdf'), transparent=True, dpi=300)\n",
    "sns.despine()"
   ]
  },
  {
   "cell_type": "code",
   "execution_count": null,
   "metadata": {},
   "outputs": [],
   "source": []
  }
 ],
 "metadata": {
  "kernelspec": {
   "display_name": "Python 3",
   "language": "python",
   "name": "python3"
  },
  "language_info": {
   "codemirror_mode": {
    "name": "ipython",
    "version": 3
   },
   "file_extension": ".py",
   "mimetype": "text/x-python",
   "name": "python",
   "nbconvert_exporter": "python",
   "pygments_lexer": "ipython3",
   "version": "3.7.3"
  }
 },
 "nbformat": 4,
 "nbformat_minor": 4
}
