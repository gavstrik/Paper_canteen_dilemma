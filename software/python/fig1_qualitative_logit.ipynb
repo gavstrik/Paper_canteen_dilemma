{
 "cells": [
  {
   "cell_type": "code",
   "execution_count": 1,
   "metadata": {},
   "outputs": [],
   "source": [
    "%matplotlib inline\n",
    "import io\n",
    "import os\n",
    "import matplotlib.pyplot as plt\n",
    "import matplotlib.patches as patch\n",
    "import pandas as pd\n",
    "import numpy as np\n",
    "import seaborn as sns\n",
    "sns.set_style('white')\n",
    "sns.set_context('notebook')"
   ]
  },
  {
   "cell_type": "code",
   "execution_count": 6,
   "metadata": {},
   "outputs": [],
   "source": [
    "datafile_DTU_qual = '../data/DTU_qualitative_formatted.xlsx'"
   ]
  },
  {
   "attachments": {},
   "cell_type": "markdown",
   "metadata": {},
   "source": [
    "Load the data into dataframe:"
   ]
  },
  {
   "cell_type": "code",
   "execution_count": 9,
   "metadata": {},
   "outputs": [
    {
     "data": {
      "text/html": [
       "<div>\n",
       "<style scoped>\n",
       "    .dataframe tbody tr th:only-of-type {\n",
       "        vertical-align: middle;\n",
       "    }\n",
       "\n",
       "    .dataframe tbody tr th {\n",
       "        vertical-align: top;\n",
       "    }\n",
       "\n",
       "    .dataframe thead th {\n",
       "        text-align: right;\n",
       "    }\n",
       "</style>\n",
       "<table border=\"1\" class=\"dataframe\">\n",
       "  <thead>\n",
       "    <tr style=\"text-align: right;\">\n",
       "      <th></th>\n",
       "      <th>card</th>\n",
       "      <th>choice</th>\n",
       "    </tr>\n",
       "  </thead>\n",
       "  <tbody>\n",
       "    <tr>\n",
       "      <th>0</th>\n",
       "      <td>4</td>\n",
       "      <td>1</td>\n",
       "    </tr>\n",
       "    <tr>\n",
       "      <th>1</th>\n",
       "      <td>5</td>\n",
       "      <td>1</td>\n",
       "    </tr>\n",
       "    <tr>\n",
       "      <th>2</th>\n",
       "      <td>5</td>\n",
       "      <td>1</td>\n",
       "    </tr>\n",
       "    <tr>\n",
       "      <th>3</th>\n",
       "      <td>6</td>\n",
       "      <td>1</td>\n",
       "    </tr>\n",
       "    <tr>\n",
       "      <th>4</th>\n",
       "      <td>5</td>\n",
       "      <td>1</td>\n",
       "    </tr>\n",
       "  </tbody>\n",
       "</table>\n",
       "</div>"
      ],
      "text/plain": [
       "   card  choice\n",
       "0     4       1\n",
       "1     5       1\n",
       "2     5       1\n",
       "3     6       1\n",
       "4     5       1"
      ]
     },
     "execution_count": 9,
     "metadata": {},
     "output_type": "execute_result"
    }
   ],
   "source": [
    "df_DTU_qual = pd.DataFrame(pd.read_excel(datafile_DTU_qual))\n",
    "df = df_DTU_qual[['card','choice']]\n",
    "df.head()"
   ]
  },
  {
   "cell_type": "markdown",
   "metadata": {},
   "source": [
    "The logistic regression takes longer time with confidence intervals due to the bootstrapping. Set n_boot to 10000 for the final plot."
   ]
  },
  {
   "cell_type": "code",
   "execution_count": 13,
   "metadata": {},
   "outputs": [
    {
     "data": {
      "image/png": "[encoded data removed]",
      "text/plain": [
       "<Figure size 324x216 with 1 Axes>"
      ]
     },
     "metadata": {},
     "output_type": "display_data"
    }
   ],
   "source": [
    "g = sns.lmplot(x=\"card\", y=\"choice\", data=df,\n",
    "               logistic=True, ci=95, n_boot=10000, x_estimator=np.mean, x_ci=\"ci\",\n",
    "               y_jitter=.2, legend=False, height=3, aspect=1.5)\n",
    "\n",
    "#plt.setp(g.lines, alpha=1) # setting translucency of CI to zero\n",
    "g.set(xlim=(2, 11))\n",
    "g.set(ylabel='frequency of white')\n",
    "g.set(xticks=[2,3,4,5,6,7,8,9,10], yticks=[0, .1,.2,.3,.4,.5,.6,.7,.8,.9, 1])\n",
    "#g.set(xticklabels = [\"8:00\", \"8:10\", \"8:20\", \"8:30\", \"8:40\", \"8:50\", \"9:00\", \"9:10\"])\n",
    "\n",
    "# make my own legend:\n",
    "# name_to_color = {\n",
    "#     'MTurk (n=4260)': 'blue',\n",
    "#     'DTU1  (n=2160)': 'orange',\n",
    "#     'DTU2  (n=1012)': 'green',\n",
    "# }\n",
    "# patches = [patch.Patch(color=v, label=k) for k,v in name_to_color.items()]\n",
    "# plt.legend(handles=patches, loc='lower left')\n",
    "plt.tight_layout()\n",
    "\n",
    "plt.rcParams[\"font.family\"] = \"sans-serif\"\n",
    "PLOTS_DIR = '../plots'\n",
    "\n",
    "if not os.path.exists(PLOTS_DIR):\n",
    "    os.makedirs(PLOTS_DIR)\n",
    "\n",
    "plt.savefig(os.path.join(PLOTS_DIR, 'fig1_qualitative_logit.png'),\n",
    "            bbox_inches='tight', transparent=True, dpi=300)\n",
    "plt.savefig(os.path.join(PLOTS_DIR, 'fig1_qualitative_logit.pdf'), transparent=True, dpi=300)\n",
    "sns.despine()"
   ]
  },
  {
   "cell_type": "code",
   "execution_count": null,
   "metadata": {},
   "outputs": [],
   "source": []
  }
 ],
 "metadata": {
  "kernelspec": {
   "display_name": "Python 3",
   "language": "python",
   "name": "python3"
  },
  "language_info": {
   "codemirror_mode": {
    "name": "ipython",
    "version": 3
   },
   "file_extension": ".py",
   "mimetype": "text/x-python",
   "name": "python",
   "nbconvert_exporter": "python",
   "pygments_lexer": "ipython3",
   "version": "3.9.6"
  },
  "vscode": {
   "interpreter": {
    "hash": "6c4edc31b7110272026d491a7c52b0c9de521508411a80035231603d90617c75"
   }
  }
 },
 "nbformat": 4,
 "nbformat_minor": 4
}
