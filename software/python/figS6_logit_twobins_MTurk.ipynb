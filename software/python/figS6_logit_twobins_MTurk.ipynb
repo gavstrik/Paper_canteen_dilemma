{
 "cells": [
  {
   "cell_type": "code",
   "execution_count": 1,
   "metadata": {},
   "outputs": [
    {
     "name": "stderr",
     "output_type": "stream",
     "text": [
      "c:\\users\\hjl161\\appdata\\local\\programs\\python\\python37\\lib\\site-packages\\statsmodels\\tools\\_testing.py:19: FutureWarning: pandas.util.testing is deprecated. Use the functions in the public API at pandas.testing instead.\n",
      "  import pandas.util.testing as tm\n"
     ]
    }
   ],
   "source": [
    "%matplotlib inline\n",
    "import io\n",
    "import os\n",
    "import matplotlib.pyplot as plt\n",
    "import matplotlib.patches as patch\n",
    "import pandas as pd\n",
    "import numpy as np\n",
    "import seaborn as sns\n",
    "sns.set_style('darkgrid')\n",
    "sns.set_context('notebook')"
   ]
  },
  {
   "cell_type": "code",
   "execution_count": 2,
   "metadata": {},
   "outputs": [],
   "source": [
    "datafile_AMT = '../data/MTurk_anonymous.xlsx'\n",
    "#datafile_DTU1 = '../data/DTU1_anonymous.xlsx'\n",
    "#datafile_DTU2 = '../data/DTU2_anonymous.xlsx'"
   ]
  },
  {
   "cell_type": "code",
   "execution_count": 3,
   "metadata": {},
   "outputs": [],
   "source": [
    "df_MTurk = pd.DataFrame(pd.read_excel(datafile_AMT))\n",
    "df_MTurk.drop(df_MTurk.columns[df_MTurk.columns.str.contains('unnamed',case = False)],axis = 1, inplace = True)\n",
    "#df_DTU1 = pd.DataFrame(pd.read_excel(datafile_DTU1))\n",
    "#df_DTU1.drop(df_DTU1.columns[df_DTU1.columns.str.contains('unnamed',case = False)],axis = 1, inplace = True)\n",
    "#df_DTU2 = pd.DataFrame(pd.read_excel(datafile_DTU2))\n",
    "#df_DTU2.drop(df_DTU2.columns[df_DTU2.columns.str.contains('unnamed',case = False)],axis = 1, inplace = True)"
   ]
  },
  {
   "cell_type": "code",
   "execution_count": 4,
   "metadata": {},
   "outputs": [
    {
     "data": {
      "text/html": [
       "<div>\n",
       "<style scoped>\n",
       "    .dataframe tbody tr th:only-of-type {\n",
       "        vertical-align: middle;\n",
       "    }\n",
       "\n",
       "    .dataframe tbody tr th {\n",
       "        vertical-align: top;\n",
       "    }\n",
       "\n",
       "    .dataframe thead th {\n",
       "        text-align: right;\n",
       "    }\n",
       "</style>\n",
       "<table border=\"1\" class=\"dataframe\">\n",
       "  <thead>\n",
       "    <tr style=\"text-align: right;\">\n",
       "      <th></th>\n",
       "      <th>session</th>\n",
       "      <th>code</th>\n",
       "      <th>group</th>\n",
       "      <th>id_in_group</th>\n",
       "      <th>round</th>\n",
       "      <th>arrival</th>\n",
       "      <th>choice</th>\n",
       "      <th>certainty</th>\n",
       "      <th>bonus</th>\n",
       "      <th>strategy</th>\n",
       "      <th>simple</th>\n",
       "      <th>cutoff</th>\n",
       "      <th>fault</th>\n",
       "      <th>payoff</th>\n",
       "    </tr>\n",
       "  </thead>\n",
       "  <tbody>\n",
       "    <tr>\n",
       "      <th>0</th>\n",
       "      <td>0c0pdasz</td>\n",
       "      <td>zh74wr23</td>\n",
       "      <td>2</td>\n",
       "      <td>1</td>\n",
       "      <td>1</td>\n",
       "      <td>8.2</td>\n",
       "      <td>1</td>\n",
       "      <td>0.875</td>\n",
       "      <td>-0.13</td>\n",
       "      <td>NaN</td>\n",
       "      <td>NaN</td>\n",
       "      <td>NaN</td>\n",
       "      <td>NaN</td>\n",
       "      <td>7.89</td>\n",
       "    </tr>\n",
       "    <tr>\n",
       "      <th>1</th>\n",
       "      <td>0c0pdasz</td>\n",
       "      <td>w73mxa5y</td>\n",
       "      <td>2</td>\n",
       "      <td>2</td>\n",
       "      <td>1</td>\n",
       "      <td>8.3</td>\n",
       "      <td>1</td>\n",
       "      <td>0.875</td>\n",
       "      <td>-0.13</td>\n",
       "      <td>NaN</td>\n",
       "      <td>NaN</td>\n",
       "      <td>NaN</td>\n",
       "      <td>NaN</td>\n",
       "      <td>4.66</td>\n",
       "    </tr>\n",
       "    <tr>\n",
       "      <th>2</th>\n",
       "      <td>0c0pdasz</td>\n",
       "      <td>zh74wr23</td>\n",
       "      <td>2</td>\n",
       "      <td>1</td>\n",
       "      <td>2</td>\n",
       "      <td>8.2</td>\n",
       "      <td>0</td>\n",
       "      <td>0.500</td>\n",
       "      <td>-1.39</td>\n",
       "      <td>NaN</td>\n",
       "      <td>NaN</td>\n",
       "      <td>NaN</td>\n",
       "      <td>NaN</td>\n",
       "      <td>7.89</td>\n",
       "    </tr>\n",
       "    <tr>\n",
       "      <th>3</th>\n",
       "      <td>0c0pdasz</td>\n",
       "      <td>w73mxa5y</td>\n",
       "      <td>2</td>\n",
       "      <td>2</td>\n",
       "      <td>2</td>\n",
       "      <td>8.1</td>\n",
       "      <td>1</td>\n",
       "      <td>0.875</td>\n",
       "      <td>-4.16</td>\n",
       "      <td>NaN</td>\n",
       "      <td>NaN</td>\n",
       "      <td>NaN</td>\n",
       "      <td>NaN</td>\n",
       "      <td>4.66</td>\n",
       "    </tr>\n",
       "    <tr>\n",
       "      <th>4</th>\n",
       "      <td>0c0pdasz</td>\n",
       "      <td>zh74wr23</td>\n",
       "      <td>2</td>\n",
       "      <td>1</td>\n",
       "      <td>3</td>\n",
       "      <td>8.2</td>\n",
       "      <td>1</td>\n",
       "      <td>0.990</td>\n",
       "      <td>-0.01</td>\n",
       "      <td>NaN</td>\n",
       "      <td>NaN</td>\n",
       "      <td>NaN</td>\n",
       "      <td>NaN</td>\n",
       "      <td>7.89</td>\n",
       "    </tr>\n",
       "  </tbody>\n",
       "</table>\n",
       "</div>"
      ],
      "text/plain": [
       "    session      code  group  id_in_group  round  arrival  choice  certainty  \\\n",
       "0  0c0pdasz  zh74wr23      2            1      1      8.2       1      0.875   \n",
       "1  0c0pdasz  w73mxa5y      2            2      1      8.3       1      0.875   \n",
       "2  0c0pdasz  zh74wr23      2            1      2      8.2       0      0.500   \n",
       "3  0c0pdasz  w73mxa5y      2            2      2      8.1       1      0.875   \n",
       "4  0c0pdasz  zh74wr23      2            1      3      8.2       1      0.990   \n",
       "\n",
       "   bonus strategy  simple  cutoff  fault  payoff  \n",
       "0  -0.13      NaN     NaN     NaN    NaN    7.89  \n",
       "1  -0.13      NaN     NaN     NaN    NaN    4.66  \n",
       "2  -1.39      NaN     NaN     NaN    NaN    7.89  \n",
       "3  -4.16      NaN     NaN     NaN    NaN    4.66  \n",
       "4  -0.01      NaN     NaN     NaN    NaN    7.89  "
      ]
     },
     "execution_count": 4,
     "metadata": {},
     "output_type": "execute_result"
    }
   ],
   "source": [
    "df_MTurk.head()"
   ]
  },
  {
   "cell_type": "markdown",
   "metadata": {},
   "source": [
    "In the following, we want to partition responses according to how many times a player has miscoordinated before. For a start, we concatenate all three experiments into one dataframe:"
   ]
  },
  {
   "cell_type": "code",
   "execution_count": 5,
   "metadata": {},
   "outputs": [],
   "source": [
    "#df = pd.concat([\n",
    "#                df_MTurk.join(pd.Series(['MTurk']*len(df_MTurk), name='experiment')), \n",
    "#                df_DTU1.join(pd.Series(['DTU1']*len(df_DTU1), name='experiment')),\n",
    "#                df_DTU2.join(pd.Series(['DTU2']*len(df_DTU2), name='experiment'))],\n",
    "#                ignore_index=True)"
   ]
  },
  {
   "cell_type": "code",
   "execution_count": 6,
   "metadata": {},
   "outputs": [],
   "source": [
    "#df.head(), len(df)"
   ]
  },
  {
   "cell_type": "markdown",
   "metadata": {},
   "source": [
    "Now we group the data into response pairs"
   ]
  },
  {
   "cell_type": "code",
   "execution_count": 7,
   "metadata": {},
   "outputs": [
    {
     "data": {
      "text/html": [
       "<div>\n",
       "<style scoped>\n",
       "    .dataframe tbody tr th:only-of-type {\n",
       "        vertical-align: middle;\n",
       "    }\n",
       "\n",
       "    .dataframe tbody tr th {\n",
       "        vertical-align: top;\n",
       "    }\n",
       "\n",
       "    .dataframe thead th {\n",
       "        text-align: right;\n",
       "    }\n",
       "</style>\n",
       "<table border=\"1\" class=\"dataframe\">\n",
       "  <thead>\n",
       "    <tr style=\"text-align: right;\">\n",
       "      <th></th>\n",
       "      <th>session</th>\n",
       "      <th>group</th>\n",
       "      <th>round</th>\n",
       "      <th>code</th>\n",
       "      <th>id_in_group</th>\n",
       "      <th>arrival</th>\n",
       "      <th>choice</th>\n",
       "      <th>certainty</th>\n",
       "    </tr>\n",
       "  </thead>\n",
       "  <tbody>\n",
       "    <tr>\n",
       "      <th>0</th>\n",
       "      <td>0c0pdasz</td>\n",
       "      <td>2</td>\n",
       "      <td>1</td>\n",
       "      <td>(zh74wr23, w73mxa5y)</td>\n",
       "      <td>(1, 2)</td>\n",
       "      <td>(8.2, 8.3)</td>\n",
       "      <td>(1, 1)</td>\n",
       "      <td>(0.875, 0.875)</td>\n",
       "    </tr>\n",
       "    <tr>\n",
       "      <th>1</th>\n",
       "      <td>0c0pdasz</td>\n",
       "      <td>2</td>\n",
       "      <td>2</td>\n",
       "      <td>(zh74wr23, w73mxa5y)</td>\n",
       "      <td>(1, 2)</td>\n",
       "      <td>(8.2, 8.1)</td>\n",
       "      <td>(0, 1)</td>\n",
       "      <td>(0.5, 0.875)</td>\n",
       "    </tr>\n",
       "    <tr>\n",
       "      <th>2</th>\n",
       "      <td>0c0pdasz</td>\n",
       "      <td>2</td>\n",
       "      <td>3</td>\n",
       "      <td>(zh74wr23, w73mxa5y)</td>\n",
       "      <td>(1, 2)</td>\n",
       "      <td>(8.2, 8.3)</td>\n",
       "      <td>(1, 1)</td>\n",
       "      <td>(0.99, 0.625)</td>\n",
       "    </tr>\n",
       "    <tr>\n",
       "      <th>3</th>\n",
       "      <td>0c0pdasz</td>\n",
       "      <td>2</td>\n",
       "      <td>4</td>\n",
       "      <td>(zh74wr23, w73mxa5y)</td>\n",
       "      <td>(1, 2)</td>\n",
       "      <td>(8.4, 8.5)</td>\n",
       "      <td>(1, 1)</td>\n",
       "      <td>(0.625, 0.625)</td>\n",
       "    </tr>\n",
       "    <tr>\n",
       "      <th>4</th>\n",
       "      <td>0c0pdasz</td>\n",
       "      <td>2</td>\n",
       "      <td>5</td>\n",
       "      <td>(zh74wr23, w73mxa5y)</td>\n",
       "      <td>(1, 2)</td>\n",
       "      <td>(9.1, 9.0)</td>\n",
       "      <td>(0, 0)</td>\n",
       "      <td>(0.99, 0.99)</td>\n",
       "    </tr>\n",
       "  </tbody>\n",
       "</table>\n",
       "</div>"
      ],
      "text/plain": [
       "    session  group  round                  code id_in_group     arrival  \\\n",
       "0  0c0pdasz      2      1  (zh74wr23, w73mxa5y)      (1, 2)  (8.2, 8.3)   \n",
       "1  0c0pdasz      2      2  (zh74wr23, w73mxa5y)      (1, 2)  (8.2, 8.1)   \n",
       "2  0c0pdasz      2      3  (zh74wr23, w73mxa5y)      (1, 2)  (8.2, 8.3)   \n",
       "3  0c0pdasz      2      4  (zh74wr23, w73mxa5y)      (1, 2)  (8.4, 8.5)   \n",
       "4  0c0pdasz      2      5  (zh74wr23, w73mxa5y)      (1, 2)  (9.1, 9.0)   \n",
       "\n",
       "   choice       certainty  \n",
       "0  (1, 1)  (0.875, 0.875)  \n",
       "1  (0, 1)    (0.5, 0.875)  \n",
       "2  (1, 1)   (0.99, 0.625)  \n",
       "3  (1, 1)  (0.625, 0.625)  \n",
       "4  (0, 0)    (0.99, 0.99)  "
      ]
     },
     "execution_count": 7,
     "metadata": {},
     "output_type": "execute_result"
    }
   ],
   "source": [
    "df = df_MTurk.groupby(['session', 'group', 'round'], as_index=False)[['code', 'id_in_group', 'arrival', 'choice', 'certainty']].agg(lambda x: tuple(x))\n",
    "df.head()"
   ]
  },
  {
   "cell_type": "code",
   "execution_count": 8,
   "metadata": {},
   "outputs": [],
   "source": [
    "#df0 = pd.DataFrame(columns=df.columns)\n",
    "#df1_ = pd.DataFrame(columns=df.columns)\n",
    "#sessions = df.session.unique()\n",
    "#for session in sessions:\n",
    "#    df_session = df[df.session == session]\n",
    "#    groups = df_session.group.unique()\n",
    "#    for group in groups:\n",
    "#        df_group = df_session[df_session.group == group]\n",
    "#        miss = 0\n",
    "#        for idx, row in df.iterrows():\n",
    "#            if sum(row['choice']) != 1:\n",
    "#                row['miss'] = miss\n",
    "#                df0 = df0.append(row, ignore_index=True)\n",
    "#            else:\n",
    "#                miss += 1\n",
    "#                df1_ = df1_.append(row, ignore_index=True)\n",
    "#df.head()"
   ]
  },
  {
   "cell_type": "code",
   "execution_count": 9,
   "metadata": {},
   "outputs": [],
   "source": [
    "# initialize new dataframes that will hold data with a condition. df0 will contain all choices \n",
    "# having had zero previous miscoordinations, while df1_ will contain all choices having had one\n",
    "# or more previous miscoordinations\n",
    "df0 = pd.DataFrame(columns=df.columns)\n",
    "df1_ = pd.DataFrame(columns=df.columns)"
   ]
  },
  {
   "cell_type": "code",
   "execution_count": 10,
   "metadata": {},
   "outputs": [],
   "source": [
    "# partition the dataframe into two bins - the first having 0 and 1, and the other 2 or more\n",
    "# miscoordinations:\n",
    "sessions = df.session.unique()\n",
    "for session in sessions:\n",
    "    df_session = df[df.session == session]\n",
    "    groups = df_session.group.unique()\n",
    "    for group in groups:\n",
    "        df_group = df_session[df_session.group == group]\n",
    "        miss = 0\n",
    "        for idx, row in df_group.iterrows():\n",
    "            if sum(row['choice']) != 1:\n",
    "                if miss == 0:\n",
    "                    df0 = df0.append(row, ignore_index=True)\n",
    "                else:\n",
    "                    df1_ = df1_.append(row, ignore_index=True)\n",
    "            else:\n",
    "                if miss == 0:\n",
    "                    df0 = df0.append(row, ignore_index=True)\n",
    "                else:\n",
    "                    df1_ = df1_.append(row, ignore_index=True)\n",
    "                miss += 1"
   ]
  },
  {
   "cell_type": "markdown",
   "metadata": {},
   "source": [
    "Now a bit of magic: we need to separate the tuples again and create rows for each person: (see ref at https://stackoverflow.com/questions/53218931/how-to-unnest-explode-a-column-in-a-pandas-dataframe"
   ]
  },
  {
   "cell_type": "code",
   "execution_count": 11,
   "metadata": {},
   "outputs": [],
   "source": [
    "def unnesting(df, explode):\n",
    "    idx = df.index.repeat(df[explode[0]].str.len())\n",
    "    df1 = pd.concat([\n",
    "        pd.DataFrame({x: np.concatenate(df[x].values)}) for x in explode], axis=1)\n",
    "    df1.index = idx\n",
    "\n",
    "    return df1.join(df.drop(explode, 1), how='left')\n",
    "\n",
    "\n",
    "dfnew0 = unnesting(df0,['code', 'id_in_group', 'arrival', 'choice', 'certainty'])\n",
    "dfnew1_ = unnesting(df1_,['code', 'id_in_group', 'arrival', 'choice', 'certainty'])"
   ]
  },
  {
   "cell_type": "code",
   "execution_count": 12,
   "metadata": {},
   "outputs": [
    {
     "data": {
      "text/plain": [
       "(2762, 1498)"
      ]
     },
     "execution_count": 12,
     "metadata": {},
     "output_type": "execute_result"
    }
   ],
   "source": [
    "dfnew0['arrival'].replace({9.0: 8.6, 9.1: 8.7}, inplace=True)\n",
    "dfnew1_['arrival'].replace({9.0: 8.6, 9.1: 8.7}, inplace=True)\n",
    "len(dfnew0), len(dfnew1_)"
   ]
  },
  {
   "cell_type": "code",
   "execution_count": 13,
   "metadata": {},
   "outputs": [
    {
     "data": {
      "text/html": [
       "<div>\n",
       "<style scoped>\n",
       "    .dataframe tbody tr th:only-of-type {\n",
       "        vertical-align: middle;\n",
       "    }\n",
       "\n",
       "    .dataframe tbody tr th {\n",
       "        vertical-align: top;\n",
       "    }\n",
       "\n",
       "    .dataframe thead th {\n",
       "        text-align: right;\n",
       "    }\n",
       "</style>\n",
       "<table border=\"1\" class=\"dataframe\">\n",
       "  <thead>\n",
       "    <tr style=\"text-align: right;\">\n",
       "      <th></th>\n",
       "      <th>code</th>\n",
       "      <th>id_in_group</th>\n",
       "      <th>arrival</th>\n",
       "      <th>choice</th>\n",
       "      <th>certainty</th>\n",
       "      <th>session</th>\n",
       "      <th>group</th>\n",
       "      <th>round</th>\n",
       "    </tr>\n",
       "  </thead>\n",
       "  <tbody>\n",
       "    <tr>\n",
       "      <th>0</th>\n",
       "      <td>zh74wr23</td>\n",
       "      <td>1</td>\n",
       "      <td>8.2</td>\n",
       "      <td>1</td>\n",
       "      <td>0.875</td>\n",
       "      <td>0c0pdasz</td>\n",
       "      <td>2</td>\n",
       "      <td>1</td>\n",
       "    </tr>\n",
       "    <tr>\n",
       "      <th>0</th>\n",
       "      <td>w73mxa5y</td>\n",
       "      <td>2</td>\n",
       "      <td>8.3</td>\n",
       "      <td>1</td>\n",
       "      <td>0.875</td>\n",
       "      <td>0c0pdasz</td>\n",
       "      <td>2</td>\n",
       "      <td>1</td>\n",
       "    </tr>\n",
       "    <tr>\n",
       "      <th>1</th>\n",
       "      <td>zh74wr23</td>\n",
       "      <td>1</td>\n",
       "      <td>8.2</td>\n",
       "      <td>0</td>\n",
       "      <td>0.500</td>\n",
       "      <td>0c0pdasz</td>\n",
       "      <td>2</td>\n",
       "      <td>2</td>\n",
       "    </tr>\n",
       "    <tr>\n",
       "      <th>1</th>\n",
       "      <td>w73mxa5y</td>\n",
       "      <td>2</td>\n",
       "      <td>8.1</td>\n",
       "      <td>1</td>\n",
       "      <td>0.875</td>\n",
       "      <td>0c0pdasz</td>\n",
       "      <td>2</td>\n",
       "      <td>2</td>\n",
       "    </tr>\n",
       "    <tr>\n",
       "      <th>2</th>\n",
       "      <td>3ukm8x0z</td>\n",
       "      <td>1</td>\n",
       "      <td>8.7</td>\n",
       "      <td>0</td>\n",
       "      <td>0.750</td>\n",
       "      <td>0c0pdasz</td>\n",
       "      <td>3</td>\n",
       "      <td>1</td>\n",
       "    </tr>\n",
       "  </tbody>\n",
       "</table>\n",
       "</div>"
      ],
      "text/plain": [
       "       code  id_in_group  arrival  choice  certainty   session group round\n",
       "0  zh74wr23            1      8.2       1      0.875  0c0pdasz     2     1\n",
       "0  w73mxa5y            2      8.3       1      0.875  0c0pdasz     2     1\n",
       "1  zh74wr23            1      8.2       0      0.500  0c0pdasz     2     2\n",
       "1  w73mxa5y            2      8.1       1      0.875  0c0pdasz     2     2\n",
       "2  3ukm8x0z            1      8.7       0      0.750  0c0pdasz     3     1"
      ]
     },
     "execution_count": 13,
     "metadata": {},
     "output_type": "execute_result"
    }
   ],
   "source": [
    "dfnew0.head()"
   ]
  },
  {
   "cell_type": "code",
   "execution_count": 14,
   "metadata": {},
   "outputs": [
    {
     "data": {
      "image/png": "[encoded data removed]",
      "text/plain": [
       "<Figure size 432x288 with 1 Axes>"
      ]
     },
     "metadata": {
      "needs_background": "light"
     },
     "output_type": "display_data"
    }
   ],
   "source": [
    "sns.regplot(x='arrival', y='choice', data=dfnew0, ci=95, logistic=True)\n",
    "sns.despine()"
   ]
  },
  {
   "cell_type": "code",
   "execution_count": 15,
   "metadata": {},
   "outputs": [
    {
     "data": {
      "image/png": "[encoded data removed]",
      "text/plain": [
       "<Figure size 432x288 with 1 Axes>"
      ]
     },
     "metadata": {
      "needs_background": "light"
     },
     "output_type": "display_data"
    }
   ],
   "source": [
    "sns.regplot(x='arrival', y='choice', data=dfnew1_, ci=95, logistic=True)\n",
    "sns.despine()"
   ]
  },
  {
   "cell_type": "code",
   "execution_count": 16,
   "metadata": {},
   "outputs": [],
   "source": [
    "dfall = pd.concat([dfnew0.join(pd.Series(['zero']*len(dfnew0), name='miss')), \n",
    "                   dfnew1_.join(pd.Series(['one_or_more']*len(dfnew1_), name='miss'))],\n",
    "                ignore_index=True)"
   ]
  },
  {
   "cell_type": "code",
   "execution_count": 17,
   "metadata": {},
   "outputs": [
    {
     "data": {
      "text/html": [
       "<div>\n",
       "<style scoped>\n",
       "    .dataframe tbody tr th:only-of-type {\n",
       "        vertical-align: middle;\n",
       "    }\n",
       "\n",
       "    .dataframe tbody tr th {\n",
       "        vertical-align: top;\n",
       "    }\n",
       "\n",
       "    .dataframe thead th {\n",
       "        text-align: right;\n",
       "    }\n",
       "</style>\n",
       "<table border=\"1\" class=\"dataframe\">\n",
       "  <thead>\n",
       "    <tr style=\"text-align: right;\">\n",
       "      <th></th>\n",
       "      <th>code</th>\n",
       "      <th>id_in_group</th>\n",
       "      <th>arrival</th>\n",
       "      <th>choice</th>\n",
       "      <th>certainty</th>\n",
       "      <th>session</th>\n",
       "      <th>group</th>\n",
       "      <th>round</th>\n",
       "      <th>miss</th>\n",
       "    </tr>\n",
       "  </thead>\n",
       "  <tbody>\n",
       "    <tr>\n",
       "      <th>0</th>\n",
       "      <td>zh74wr23</td>\n",
       "      <td>1</td>\n",
       "      <td>8.2</td>\n",
       "      <td>1</td>\n",
       "      <td>0.875</td>\n",
       "      <td>0c0pdasz</td>\n",
       "      <td>2</td>\n",
       "      <td>1</td>\n",
       "      <td>zero</td>\n",
       "    </tr>\n",
       "    <tr>\n",
       "      <th>1</th>\n",
       "      <td>w73mxa5y</td>\n",
       "      <td>2</td>\n",
       "      <td>8.3</td>\n",
       "      <td>1</td>\n",
       "      <td>0.875</td>\n",
       "      <td>0c0pdasz</td>\n",
       "      <td>2</td>\n",
       "      <td>1</td>\n",
       "      <td>zero</td>\n",
       "    </tr>\n",
       "    <tr>\n",
       "      <th>2</th>\n",
       "      <td>zh74wr23</td>\n",
       "      <td>1</td>\n",
       "      <td>8.2</td>\n",
       "      <td>0</td>\n",
       "      <td>0.500</td>\n",
       "      <td>0c0pdasz</td>\n",
       "      <td>2</td>\n",
       "      <td>2</td>\n",
       "      <td>zero</td>\n",
       "    </tr>\n",
       "    <tr>\n",
       "      <th>3</th>\n",
       "      <td>w73mxa5y</td>\n",
       "      <td>2</td>\n",
       "      <td>8.1</td>\n",
       "      <td>1</td>\n",
       "      <td>0.875</td>\n",
       "      <td>0c0pdasz</td>\n",
       "      <td>2</td>\n",
       "      <td>2</td>\n",
       "      <td>zero</td>\n",
       "    </tr>\n",
       "    <tr>\n",
       "      <th>4</th>\n",
       "      <td>3ukm8x0z</td>\n",
       "      <td>1</td>\n",
       "      <td>8.7</td>\n",
       "      <td>0</td>\n",
       "      <td>0.750</td>\n",
       "      <td>0c0pdasz</td>\n",
       "      <td>3</td>\n",
       "      <td>1</td>\n",
       "      <td>zero</td>\n",
       "    </tr>\n",
       "  </tbody>\n",
       "</table>\n",
       "</div>"
      ],
      "text/plain": [
       "       code  id_in_group  arrival  choice  certainty   session group round  \\\n",
       "0  zh74wr23            1      8.2       1      0.875  0c0pdasz     2     1   \n",
       "1  w73mxa5y            2      8.3       1      0.875  0c0pdasz     2     1   \n",
       "2  zh74wr23            1      8.2       0      0.500  0c0pdasz     2     2   \n",
       "3  w73mxa5y            2      8.1       1      0.875  0c0pdasz     2     2   \n",
       "4  3ukm8x0z            1      8.7       0      0.750  0c0pdasz     3     1   \n",
       "\n",
       "   miss  \n",
       "0  zero  \n",
       "1  zero  \n",
       "2  zero  \n",
       "3  zero  \n",
       "4  zero  "
      ]
     },
     "execution_count": 17,
     "metadata": {},
     "output_type": "execute_result"
    }
   ],
   "source": [
    "dfall.head()"
   ]
  },
  {
   "cell_type": "code",
   "execution_count": 18,
   "metadata": {},
   "outputs": [
    {
     "data": {
      "image/png": "[encoded data removed]",
      "text/plain": [
       "<Figure size 324x216 with 1 Axes>"
      ]
     },
     "metadata": {
      "needs_background": "light"
     },
     "output_type": "display_data"
    }
   ],
   "source": [
    "pal = dict(zero=\"blue\", one_or_more=\"orange\")\n",
    "g = sns.lmplot(x=\"arrival\", y=\"choice\", hue=\"miss\", data=dfall, palette=pal, \n",
    "               logistic=True, ci=95, n_boot=10000, x_estimator=np.mean, x_ci=\"ci\",\n",
    "               y_jitter=.2, legend=False, height=3, aspect=1.5)\n",
    "#g = sns.FacetGrid(dfall, hue='miscoordinations', palette=pal, height=5);\n",
    "#g.map(plt.scatter, \"arrival\", \"choice\", marker='o', s=50, alpha=.7, linewidth=.5, color='white', edgecolor=\"white\")\n",
    "#g.map(sns.regplot, \"arrival\", \"choice\", scatter_kws={\"color\": \"grey\"}, ci=95, n_boot=100, logistic=True, height=3, aspect=1.5)\n",
    "g.set(xlim=(7.98, 8.72))\n",
    "g.set(ylabel='frequency of canteen choice')\n",
    "my_ticks = [\"8:00\", \"8:10\", \"8:20\", \"8:30\", \"8:40\", \"8:50\", \"9:00\", \"9:10\"]\n",
    "g.set(xticks=[8,8.1,8.2,8.3,8.4,8.5,8.6,8.7], yticks=[0,.1,.2,.3,.4,.5,.6,.7,.8,.9,1])\n",
    "g.set(xticklabels = my_ticks) #, yticklabels = [\"office\",\"\",\"\",\"\",\"\",\".5\",\"\",\"\",\"\",\"\",\"canteen\"])\n",
    "\n",
    "# make my own legend:\n",
    "name_to_color = {\n",
    "    '  0 (n=2762)': 'blue',\n",
    "    '>0 (n=1498)': 'orange',\n",
    "}\n",
    "patches = [patch.Patch(color=v, label=k) for k,v in name_to_color.items()]\n",
    "plt.legend(title='# miscoordinations', handles=patches, loc='lower left')\n",
    "plt.title('MTurk', fontsize=16)\n",
    "plt.tight_layout()\n",
    "\n",
    "plt.rcParams[\"font.family\"] = \"sans-serif\"\n",
    "PLOTS_DIR = '../plots'\n",
    "\n",
    "if not os.path.exists(PLOTS_DIR):\n",
    "    os.makedirs(PLOTS_DIR)\n",
    "\n",
    "plt.savefig(os.path.join(PLOTS_DIR, 'figS6_logit_2bins_MTurk.png'),\n",
    "            bbox_inches='tight', transparent=True, dpi=300)\n",
    "plt.savefig(os.path.join(PLOTS_DIR, 'figS6_logit_2bins_MTurk.pdf'), transparent=True, dpi=300)\n",
    "\n",
    "sns.despine()"
   ]
  },
  {
   "cell_type": "code",
   "execution_count": null,
   "metadata": {},
   "outputs": [],
   "source": []
  }
 ],
 "metadata": {
  "kernelspec": {
   "display_name": "Python 3",
   "language": "python",
   "name": "python3"
  },
  "language_info": {
   "codemirror_mode": {
    "name": "ipython",
    "version": 3
   },
   "file_extension": ".py",
   "mimetype": "text/x-python",
   "name": "python",
   "nbconvert_exporter": "python",
   "pygments_lexer": "ipython3",
   "version": "3.7.3"
  }
 },
 "nbformat": 4,
 "nbformat_minor": 4
}
