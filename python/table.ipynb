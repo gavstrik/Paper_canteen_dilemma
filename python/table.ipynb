{
 "cells": [
  {
   "cell_type": "markdown",
   "metadata": {},
   "source": [
    "Table 1: Aggregate statistics of all three experiments.\n",
    "Code written by Robin Engelhardt."
   ]
  },
  {
   "cell_type": "code",
   "execution_count": 8,
   "metadata": {},
   "outputs": [
    {
     "name": "stdout",
     "output_type": "stream",
     "text": [
      "\\begin{tabular}{lrrrrrrr}\n",
      "\\hline\n",
      " Treatment   &   N &   MaxRounds &   avg. rounds &    n &   Ruin &   payoff &   Avg penalty \\\\\n",
      "\\hline\n",
      " AMT         & 680 &          10 &          6.26 & 4260 &  52.79 &    23.59 &         -1.59 \\\\\n",
      " DTU1        &  80 &          30 &         27    & 2160 &  17.5  &    27.03 &         -0.83 \\\\\n",
      " DTU2        &  42 &          30 &         24.1  & 1012 &  30.95 &    24.11 &         -0.98 \\\\\n",
      "\\hline\n",
      "\\end{tabular}\n"
     ]
    }
   ],
   "source": [
    "import numpy as np\n",
    "import pandas as pd\n",
    "from tabulate import tabulate\n",
    "\n",
    "\"\"\"\n",
    "Pretty printing the most important stats.\n",
    "Usage: copy output into latex file.\n",
    "\n",
    "Table 1: Exp. = experiment; N = number of subjects; R = maximum number of rounds;\n",
    "r_mean = average number of rounds played; Ruin = percentage of participants loosing all their\n",
    "bonus before (or in) the last round; ToEnd = percentage of participants having a bonus\n",
    "left after last round; AvgBonus = average bonus earned (percentages relate to the to the\n",
    "initial bonus given); s_mean = average penality per player per round. Please note that `Ruin'\n",
    "and `ToEnd' not add up to unity because those players who were paired with ruined players\n",
    "were stopped prematurely but still received what was left of their bonus.\n",
    "\"\"\"\n",
    "\n",
    "datafile_AMT = '../data/MTurk_anonymous.xlsx'\n",
    "datafile_DTU1 = '../data/DTU1_anonymous.xlsx'\n",
    "datafile_DTU2 = '../data/DTU2_anonymous.xlsx'\n",
    "# transactiondata = '../RawData/transactiondata.xlsx'\n",
    "\n",
    "def tabulated_stats(experiments):\n",
    "    table = pd.DataFrame()\n",
    "    participants = []\n",
    "    max_rounds = [10,30,30]\n",
    "    avg_rounds = []\n",
    "    number_of_choices = []\n",
    "    avg_penalty = []\n",
    "    ruined = []\n",
    "    payout_a = []\n",
    "    for idx, experiment in enumerate(experiments):\n",
    "        participants.append(len(experiment.code.unique()))  # total number of participants\n",
    "        players = experiment.code.unique()\n",
    "        ruin = 0\n",
    "        money_left = 0\n",
    "        pay_a = []\n",
    "        for player in players:\n",
    "            pay_a.append(experiment[experiment.code == player]['payoff'].unique().item())    # summing all payoffs\n",
    "            if experiment[experiment.code == player]['payoff'].unique().item() == 0:\n",
    "                ruin += 1\n",
    "            else:\n",
    "                money_left += 1\n",
    "\n",
    "        avg_rounds.append(len(experiment)/len(experiment.code.unique()))\n",
    "        ruined.append(100*ruin/len(experiment.code.unique()))\n",
    "        payout_a.append(sum(pay_a)/len(pay_a))\n",
    "        avg_penalty.append(experiment.bonus.mean())\n",
    "        number_of_choices.append(len(experiment))\n",
    "\n",
    "\n",
    "    table['Treatment'] = ['AMT', 'DTU1', 'DTU2']\n",
    "    table['N'] = participants\n",
    "    table['MaxRounds'] = max_rounds\n",
    "    table['avg. rounds'] = np.around(avg_rounds,2)\n",
    "    table['n'] = number_of_choices\n",
    "    table['Ruin'] = np.around(ruined,2)\n",
    "    table['payoff'] = np.around(100*np.array(payout_a)/np.array(max_rounds),2)\n",
    "    table['Avg penalty'] = np.around(avg_penalty,2)\n",
    "\n",
    "    return table\n",
    "\n",
    "\n",
    "# main code\n",
    "df_AMT = pd.DataFrame(pd.read_excel(datafile_AMT))\n",
    "df_DTU1 = pd.DataFrame(pd.read_excel(datafile_DTU1))\n",
    "df_DTU2 = pd.DataFrame(pd.read_excel(datafile_DTU2))\n",
    "df_all = pd.concat([df_AMT, df_DTU1, df_DTU2], ignore_index=True)\n",
    "\n",
    "#df_AMT\n",
    "#df_all = df_all.append(df_DTU1)\n",
    "#df_all = df_all.append(df_DTU2)\n",
    "\n",
    "table = tabulated_stats([df_AMT, df_DTU1, df_DTU2])\n",
    "print(tabulate(table, tablefmt=\"latex_raw\", headers=\"keys\", showindex=False))\n",
    "\n",
    "# df = pd.DataFrame(pd.read_excel(transactiondata))\n",
    "# print(df['Transaction Type'].unique())\n",
    "# df = df[(df['Transaction Type'] != 'Prepayment') & (df['Transaction Type'] != 'FeePayment')]\n",
    "# print('total paid to players =', sum(df['Amount']))\n",
    "# print('number of players:', len(df['Recipient ID'].unique()))\n",
    "# print('avg =', sum(df['Amount'])/len(df['Recipient ID'].unique()))"
   ]
  }
 ],
 "metadata": {
  "kernelspec": {
   "display_name": "Python 3",
   "language": "python",
   "name": "python3"
  },
  "language_info": {
   "codemirror_mode": {
    "name": "ipython",
    "version": 3
   },
   "file_extension": ".py",
   "mimetype": "text/x-python",
   "name": "python",
   "nbconvert_exporter": "python",
   "pygments_lexer": "ipython3",
   "version": "3.11.0"
  }
 },
 "nbformat": 4,
 "nbformat_minor": 2
}
