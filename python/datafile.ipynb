{
 "cells": [
  {
   "cell_type": "code",
   "execution_count": 1,
   "metadata": {},
   "outputs": [],
   "source": [
    "import pandas as pd"
   ]
  },
  {
   "source": [
    "combining all three datasets into one"
   ],
   "cell_type": "markdown",
   "metadata": {}
  },
  {
   "cell_type": "code",
   "execution_count": 14,
   "metadata": {},
   "outputs": [
    {
     "output_type": "execute_result",
     "data": {
      "text/plain": [
       "       session      code  group  id_in_group  round  arrival  choice  \\\n",
       "0     0c0pdasz  zh74wr23      2            1      1      8.2       1   \n",
       "1     0c0pdasz  w73mxa5y      2            2      1      8.3       1   \n",
       "2     0c0pdasz  zh74wr23      2            1      2      8.2       0   \n",
       "3     0c0pdasz  w73mxa5y      2            2      2      8.1       1   \n",
       "4     0c0pdasz  zh74wr23      2            1      3      8.2       1   \n",
       "...        ...       ...    ...          ...    ...      ...     ...   \n",
       "4255  ybswalgq  knq16izk     25            2      1      8.5       1   \n",
       "4256  ybswalgq  mb48zvcj     25            1      2      8.2       1   \n",
       "4257  ybswalgq  knq16izk     25            2      2      8.3       1   \n",
       "4258  ybswalgq  mb48zvcj     25            1      3      9.0       0   \n",
       "4259  ybswalgq  knq16izk     25            2      3      8.5       1   \n",
       "\n",
       "      certainty  bonus                                           strategy  \\\n",
       "0         0.875  -0.13                                                NaN   \n",
       "1         0.875  -0.13                                                NaN   \n",
       "2         0.500  -1.39                                                NaN   \n",
       "3         0.875  -4.16                                                NaN   \n",
       "4         0.990  -0.01                                                NaN   \n",
       "...         ...    ...                                                ...   \n",
       "4255      0.500  -0.69                                                NaN   \n",
       "4256      0.990  -0.01                                                NaN   \n",
       "4257      0.500  -0.69                                                NaN   \n",
       "4258      0.990  -9.21  I used the wrong one, I should have been more ...   \n",
       "4259      0.990  -9.21  I went with the strategy of what I thought my ...   \n",
       "\n",
       "      simple  cutoff  fault  payoff  exp  \n",
       "0        NaN     NaN    NaN    7.89  AMT  \n",
       "1        NaN     NaN    NaN    4.66  AMT  \n",
       "2        NaN     NaN    NaN    7.89  AMT  \n",
       "3        NaN     NaN    NaN    4.66  AMT  \n",
       "4        NaN     NaN    NaN    7.89  AMT  \n",
       "...      ...     ...    ...     ...  ...  \n",
       "4255     NaN     NaN    NaN    0.00  AMT  \n",
       "4256     NaN     NaN    NaN    0.77  AMT  \n",
       "4257     NaN     NaN    NaN    0.00  AMT  \n",
       "4258     1.0     8.4    3.0    0.77  AMT  \n",
       "4259     1.0     8.0    2.0    0.00  AMT  \n",
       "\n",
       "[4260 rows x 15 columns]"
      ],
      "text/html": "<div>\n<style scoped>\n    .dataframe tbody tr th:only-of-type {\n        vertical-align: middle;\n    }\n\n    .dataframe tbody tr th {\n        vertical-align: top;\n    }\n\n    .dataframe thead th {\n        text-align: right;\n    }\n</style>\n<table border=\"1\" class=\"dataframe\">\n  <thead>\n    <tr style=\"text-align: right;\">\n      <th></th>\n      <th>session</th>\n      <th>code</th>\n      <th>group</th>\n      <th>id_in_group</th>\n      <th>round</th>\n      <th>arrival</th>\n      <th>choice</th>\n      <th>certainty</th>\n      <th>bonus</th>\n      <th>strategy</th>\n      <th>simple</th>\n      <th>cutoff</th>\n      <th>fault</th>\n      <th>payoff</th>\n      <th>exp</th>\n    </tr>\n  </thead>\n  <tbody>\n    <tr>\n      <th>0</th>\n      <td>0c0pdasz</td>\n      <td>zh74wr23</td>\n      <td>2</td>\n      <td>1</td>\n      <td>1</td>\n      <td>8.2</td>\n      <td>1</td>\n      <td>0.875</td>\n      <td>-0.13</td>\n      <td>NaN</td>\n      <td>NaN</td>\n      <td>NaN</td>\n      <td>NaN</td>\n      <td>7.89</td>\n      <td>AMT</td>\n    </tr>\n    <tr>\n      <th>1</th>\n      <td>0c0pdasz</td>\n      <td>w73mxa5y</td>\n      <td>2</td>\n      <td>2</td>\n      <td>1</td>\n      <td>8.3</td>\n      <td>1</td>\n      <td>0.875</td>\n      <td>-0.13</td>\n      <td>NaN</td>\n      <td>NaN</td>\n      <td>NaN</td>\n      <td>NaN</td>\n      <td>4.66</td>\n      <td>AMT</td>\n    </tr>\n    <tr>\n      <th>2</th>\n      <td>0c0pdasz</td>\n      <td>zh74wr23</td>\n      <td>2</td>\n      <td>1</td>\n      <td>2</td>\n      <td>8.2</td>\n      <td>0</td>\n      <td>0.500</td>\n      <td>-1.39</td>\n      <td>NaN</td>\n      <td>NaN</td>\n      <td>NaN</td>\n      <td>NaN</td>\n      <td>7.89</td>\n      <td>AMT</td>\n    </tr>\n    <tr>\n      <th>3</th>\n      <td>0c0pdasz</td>\n      <td>w73mxa5y</td>\n      <td>2</td>\n      <td>2</td>\n      <td>2</td>\n      <td>8.1</td>\n      <td>1</td>\n      <td>0.875</td>\n      <td>-4.16</td>\n      <td>NaN</td>\n      <td>NaN</td>\n      <td>NaN</td>\n      <td>NaN</td>\n      <td>4.66</td>\n      <td>AMT</td>\n    </tr>\n    <tr>\n      <th>4</th>\n      <td>0c0pdasz</td>\n      <td>zh74wr23</td>\n      <td>2</td>\n      <td>1</td>\n      <td>3</td>\n      <td>8.2</td>\n      <td>1</td>\n      <td>0.990</td>\n      <td>-0.01</td>\n      <td>NaN</td>\n      <td>NaN</td>\n      <td>NaN</td>\n      <td>NaN</td>\n      <td>7.89</td>\n      <td>AMT</td>\n    </tr>\n    <tr>\n      <th>...</th>\n      <td>...</td>\n      <td>...</td>\n      <td>...</td>\n      <td>...</td>\n      <td>...</td>\n      <td>...</td>\n      <td>...</td>\n      <td>...</td>\n      <td>...</td>\n      <td>...</td>\n      <td>...</td>\n      <td>...</td>\n      <td>...</td>\n      <td>...</td>\n      <td>...</td>\n    </tr>\n    <tr>\n      <th>4255</th>\n      <td>ybswalgq</td>\n      <td>knq16izk</td>\n      <td>25</td>\n      <td>2</td>\n      <td>1</td>\n      <td>8.5</td>\n      <td>1</td>\n      <td>0.500</td>\n      <td>-0.69</td>\n      <td>NaN</td>\n      <td>NaN</td>\n      <td>NaN</td>\n      <td>NaN</td>\n      <td>0.00</td>\n      <td>AMT</td>\n    </tr>\n    <tr>\n      <th>4256</th>\n      <td>ybswalgq</td>\n      <td>mb48zvcj</td>\n      <td>25</td>\n      <td>1</td>\n      <td>2</td>\n      <td>8.2</td>\n      <td>1</td>\n      <td>0.990</td>\n      <td>-0.01</td>\n      <td>NaN</td>\n      <td>NaN</td>\n      <td>NaN</td>\n      <td>NaN</td>\n      <td>0.77</td>\n      <td>AMT</td>\n    </tr>\n    <tr>\n      <th>4257</th>\n      <td>ybswalgq</td>\n      <td>knq16izk</td>\n      <td>25</td>\n      <td>2</td>\n      <td>2</td>\n      <td>8.3</td>\n      <td>1</td>\n      <td>0.500</td>\n      <td>-0.69</td>\n      <td>NaN</td>\n      <td>NaN</td>\n      <td>NaN</td>\n      <td>NaN</td>\n      <td>0.00</td>\n      <td>AMT</td>\n    </tr>\n    <tr>\n      <th>4258</th>\n      <td>ybswalgq</td>\n      <td>mb48zvcj</td>\n      <td>25</td>\n      <td>1</td>\n      <td>3</td>\n      <td>9.0</td>\n      <td>0</td>\n      <td>0.990</td>\n      <td>-9.21</td>\n      <td>I used the wrong one, I should have been more ...</td>\n      <td>1.0</td>\n      <td>8.4</td>\n      <td>3.0</td>\n      <td>0.77</td>\n      <td>AMT</td>\n    </tr>\n    <tr>\n      <th>4259</th>\n      <td>ybswalgq</td>\n      <td>knq16izk</td>\n      <td>25</td>\n      <td>2</td>\n      <td>3</td>\n      <td>8.5</td>\n      <td>1</td>\n      <td>0.990</td>\n      <td>-9.21</td>\n      <td>I went with the strategy of what I thought my ...</td>\n      <td>1.0</td>\n      <td>8.0</td>\n      <td>2.0</td>\n      <td>0.00</td>\n      <td>AMT</td>\n    </tr>\n  </tbody>\n</table>\n<p>4260 rows × 15 columns</p>\n</div>"
     },
     "metadata": {},
     "execution_count": 14
    }
   ],
   "source": [
    "datafile_AMT = '../data/MTurk_anonymous.xlsx'\n",
    "datafile_DTU1 = '../data/DTU1_anonymous.xlsx'\n",
    "datafile_DTU2 = '../data/DTU2_anonymous.xlsx'\n",
    "\n",
    "df_AMT = pd.DataFrame(pd.read_excel(datafile_AMT))\n",
    "df_DTU1 = pd.DataFrame(pd.read_excel(datafile_DTU1))\n",
    "df_DTU2 = pd.DataFrame(pd.read_excel(datafile_DTU2))\n",
    "\n",
    "df_AMT['exp'] = \"AMT\"\n",
    "df_DTU1['exp'] = \"DTU1\"\n",
    "df_DTU2['exp'] = \"DTU2\"\n",
    "\n",
    "df_AMT = df_AMT.loc[:, ~df_AMT.columns.str.contains('^Unnamed')]\n",
    "df_DTU1 = df_DTU1.loc[:, ~df_DTU1.columns.str.contains('^Unnamed')]\n",
    "df_DTU2 = df_DTU2.loc[:, ~df_DTU2.columns.str.contains('^Unnamed')]\n",
    "\n",
    "df_AMT"
   ]
  },
  {
   "cell_type": "code",
   "execution_count": 15,
   "metadata": {},
   "outputs": [
    {
     "output_type": "execute_result",
     "data": {
      "text/plain": [
       "       session      code  group  id_in_group  round  arrival  choice  \\\n",
       "0     skcucks5  luykbvrv      2            1      1      8.1       1   \n",
       "1     skcucks5  4vnbdkgv      2            2      1      8.2       1   \n",
       "2     skcucks5  luykbvrv      2            1      2      8.2       1   \n",
       "3     skcucks5  4vnbdkgv      2            2      2      8.3       1   \n",
       "4     skcucks5  luykbvrv      2            1      3      8.3       1   \n",
       "...        ...       ...    ...          ...    ...      ...     ...   \n",
       "2155  skcucks5  0iusd3w7     57            2     28      8.1       1   \n",
       "2156  skcucks5  86wga0kd     57            1     29      8.4       1   \n",
       "2157  skcucks5  0iusd3w7     57            2     29      8.5       1   \n",
       "2158  skcucks5  86wga0kd     57            1     30      8.4       1   \n",
       "2159  skcucks5  0iusd3w7     57            2     30      8.5       1   \n",
       "\n",
       "      certainty  bonus                                           strategy  \\\n",
       "0          0.99  -0.01                                                NaN   \n",
       "1          0.99  -0.01                                                NaN   \n",
       "2          0.99  -0.01                                                NaN   \n",
       "3          0.99  -0.01                                                NaN   \n",
       "4          0.99  -0.01                                                NaN   \n",
       "...         ...    ...                                                ...   \n",
       "2155       0.99  -0.01                                                NaN   \n",
       "2156       0.99  -0.01                                                NaN   \n",
       "2157       0.99  -0.01                                                NaN   \n",
       "2158       0.99  -0.01       Consistent, always canteen 8:50 and earlier.   \n",
       "2159       0.99  -0.01  Always very certain of office unless arrive 9....   \n",
       "\n",
       "      simple  cutoff  fault  payoff   exp  \n",
       "0        NaN     NaN    NaN    0.35  DTU1  \n",
       "1        NaN     NaN    NaN    7.32  DTU1  \n",
       "2        NaN     NaN    NaN    0.35  DTU1  \n",
       "3        NaN     NaN    NaN    7.32  DTU1  \n",
       "4        NaN     NaN    NaN    0.35  DTU1  \n",
       "...      ...     ...    ...     ...   ...  \n",
       "2155     NaN     NaN    NaN    0.01  DTU1  \n",
       "2156     NaN     NaN    NaN    8.79  DTU1  \n",
       "2157     NaN     NaN    NaN    0.01  DTU1  \n",
       "2158     1.0     8.5    NaN    8.79  DTU1  \n",
       "2159     1.0     8.5    NaN    0.01  DTU1  \n",
       "\n",
       "[2160 rows x 15 columns]"
      ],
      "text/html": "<div>\n<style scoped>\n    .dataframe tbody tr th:only-of-type {\n        vertical-align: middle;\n    }\n\n    .dataframe tbody tr th {\n        vertical-align: top;\n    }\n\n    .dataframe thead th {\n        text-align: right;\n    }\n</style>\n<table border=\"1\" class=\"dataframe\">\n  <thead>\n    <tr style=\"text-align: right;\">\n      <th></th>\n      <th>session</th>\n      <th>code</th>\n      <th>group</th>\n      <th>id_in_group</th>\n      <th>round</th>\n      <th>arrival</th>\n      <th>choice</th>\n      <th>certainty</th>\n      <th>bonus</th>\n      <th>strategy</th>\n      <th>simple</th>\n      <th>cutoff</th>\n      <th>fault</th>\n      <th>payoff</th>\n      <th>exp</th>\n    </tr>\n  </thead>\n  <tbody>\n    <tr>\n      <th>0</th>\n      <td>skcucks5</td>\n      <td>luykbvrv</td>\n      <td>2</td>\n      <td>1</td>\n      <td>1</td>\n      <td>8.1</td>\n      <td>1</td>\n      <td>0.99</td>\n      <td>-0.01</td>\n      <td>NaN</td>\n      <td>NaN</td>\n      <td>NaN</td>\n      <td>NaN</td>\n      <td>0.35</td>\n      <td>DTU1</td>\n    </tr>\n    <tr>\n      <th>1</th>\n      <td>skcucks5</td>\n      <td>4vnbdkgv</td>\n      <td>2</td>\n      <td>2</td>\n      <td>1</td>\n      <td>8.2</td>\n      <td>1</td>\n      <td>0.99</td>\n      <td>-0.01</td>\n      <td>NaN</td>\n      <td>NaN</td>\n      <td>NaN</td>\n      <td>NaN</td>\n      <td>7.32</td>\n      <td>DTU1</td>\n    </tr>\n    <tr>\n      <th>2</th>\n      <td>skcucks5</td>\n      <td>luykbvrv</td>\n      <td>2</td>\n      <td>1</td>\n      <td>2</td>\n      <td>8.2</td>\n      <td>1</td>\n      <td>0.99</td>\n      <td>-0.01</td>\n      <td>NaN</td>\n      <td>NaN</td>\n      <td>NaN</td>\n      <td>NaN</td>\n      <td>0.35</td>\n      <td>DTU1</td>\n    </tr>\n    <tr>\n      <th>3</th>\n      <td>skcucks5</td>\n      <td>4vnbdkgv</td>\n      <td>2</td>\n      <td>2</td>\n      <td>2</td>\n      <td>8.3</td>\n      <td>1</td>\n      <td>0.99</td>\n      <td>-0.01</td>\n      <td>NaN</td>\n      <td>NaN</td>\n      <td>NaN</td>\n      <td>NaN</td>\n      <td>7.32</td>\n      <td>DTU1</td>\n    </tr>\n    <tr>\n      <th>4</th>\n      <td>skcucks5</td>\n      <td>luykbvrv</td>\n      <td>2</td>\n      <td>1</td>\n      <td>3</td>\n      <td>8.3</td>\n      <td>1</td>\n      <td>0.99</td>\n      <td>-0.01</td>\n      <td>NaN</td>\n      <td>NaN</td>\n      <td>NaN</td>\n      <td>NaN</td>\n      <td>0.35</td>\n      <td>DTU1</td>\n    </tr>\n    <tr>\n      <th>...</th>\n      <td>...</td>\n      <td>...</td>\n      <td>...</td>\n      <td>...</td>\n      <td>...</td>\n      <td>...</td>\n      <td>...</td>\n      <td>...</td>\n      <td>...</td>\n      <td>...</td>\n      <td>...</td>\n      <td>...</td>\n      <td>...</td>\n      <td>...</td>\n      <td>...</td>\n    </tr>\n    <tr>\n      <th>2155</th>\n      <td>skcucks5</td>\n      <td>0iusd3w7</td>\n      <td>57</td>\n      <td>2</td>\n      <td>28</td>\n      <td>8.1</td>\n      <td>1</td>\n      <td>0.99</td>\n      <td>-0.01</td>\n      <td>NaN</td>\n      <td>NaN</td>\n      <td>NaN</td>\n      <td>NaN</td>\n      <td>0.01</td>\n      <td>DTU1</td>\n    </tr>\n    <tr>\n      <th>2156</th>\n      <td>skcucks5</td>\n      <td>86wga0kd</td>\n      <td>57</td>\n      <td>1</td>\n      <td>29</td>\n      <td>8.4</td>\n      <td>1</td>\n      <td>0.99</td>\n      <td>-0.01</td>\n      <td>NaN</td>\n      <td>NaN</td>\n      <td>NaN</td>\n      <td>NaN</td>\n      <td>8.79</td>\n      <td>DTU1</td>\n    </tr>\n    <tr>\n      <th>2157</th>\n      <td>skcucks5</td>\n      <td>0iusd3w7</td>\n      <td>57</td>\n      <td>2</td>\n      <td>29</td>\n      <td>8.5</td>\n      <td>1</td>\n      <td>0.99</td>\n      <td>-0.01</td>\n      <td>NaN</td>\n      <td>NaN</td>\n      <td>NaN</td>\n      <td>NaN</td>\n      <td>0.01</td>\n      <td>DTU1</td>\n    </tr>\n    <tr>\n      <th>2158</th>\n      <td>skcucks5</td>\n      <td>86wga0kd</td>\n      <td>57</td>\n      <td>1</td>\n      <td>30</td>\n      <td>8.4</td>\n      <td>1</td>\n      <td>0.99</td>\n      <td>-0.01</td>\n      <td>Consistent, always canteen 8:50 and earlier.</td>\n      <td>1.0</td>\n      <td>8.5</td>\n      <td>NaN</td>\n      <td>8.79</td>\n      <td>DTU1</td>\n    </tr>\n    <tr>\n      <th>2159</th>\n      <td>skcucks5</td>\n      <td>0iusd3w7</td>\n      <td>57</td>\n      <td>2</td>\n      <td>30</td>\n      <td>8.5</td>\n      <td>1</td>\n      <td>0.99</td>\n      <td>-0.01</td>\n      <td>Always very certain of office unless arrive 9....</td>\n      <td>1.0</td>\n      <td>8.5</td>\n      <td>NaN</td>\n      <td>0.01</td>\n      <td>DTU1</td>\n    </tr>\n  </tbody>\n</table>\n<p>2160 rows × 15 columns</p>\n</div>"
     },
     "metadata": {},
     "execution_count": 15
    }
   ],
   "source": [
    "df_DTU1"
   ]
  },
  {
   "cell_type": "code",
   "execution_count": 19,
   "metadata": {},
   "outputs": [
    {
     "output_type": "execute_result",
     "data": {
      "text/plain": [
       "       session      code  group  id_in_group  round  arrival  choice  \\\n",
       "0     0c0pdasz  zh74wr23      2            1      1      8.2       1   \n",
       "1     0c0pdasz  w73mxa5y      2            2      1      8.3       1   \n",
       "2     0c0pdasz  zh74wr23      2            1      2      8.2       0   \n",
       "3     0c0pdasz  w73mxa5y      2            2      2      8.1       1   \n",
       "4     0c0pdasz  zh74wr23      2            1      3      8.2       1   \n",
       "...        ...       ...    ...          ...    ...      ...     ...   \n",
       "1007  px95dqer  jghl3ft6     27            2     28      8.3       1   \n",
       "1008  px95dqer  fihx7944     27            1     29      9.0       0   \n",
       "1009  px95dqer  jghl3ft6     27            2     29      8.5       1   \n",
       "1010  px95dqer  fihx7944     27            1     30      9.0       0   \n",
       "1011  px95dqer  jghl3ft6     27            2     30      8.5       1   \n",
       "\n",
       "      certainty  bonus                                           strategy  \\\n",
       "0         0.875  -0.13                                                NaN   \n",
       "1         0.875  -0.13                                                NaN   \n",
       "2         0.500  -1.39                                                NaN   \n",
       "3         0.875  -4.16                                                NaN   \n",
       "4         0.990  -0.01                                                NaN   \n",
       "...         ...    ...                                                ...   \n",
       "1007      0.990  -0.01                                                NaN   \n",
       "1008      0.750  -2.77                                                NaN   \n",
       "1009      0.990  -9.21                                                NaN   \n",
       "1010      0.750  -2.77  Only choosing office if I arrived at 9:00 or 9:10   \n",
       "1011      0.875  -4.16                                   Well, that's sad   \n",
       "\n",
       "      simple  cutoff  fault  payoff   exp  \n",
       "0        NaN     NaN    NaN    7.89   AMT  \n",
       "1        NaN     NaN    NaN    4.66   AMT  \n",
       "2        NaN     NaN    NaN    7.89   AMT  \n",
       "3        NaN     NaN    NaN    4.66   AMT  \n",
       "4        NaN     NaN    NaN    7.89   AMT  \n",
       "...      ...     ...    ...     ...   ...  \n",
       "1007     NaN     NaN    NaN    0.00  DTU2  \n",
       "1008     NaN     NaN    NaN    1.67  DTU2  \n",
       "1009     NaN     NaN    NaN    0.00  DTU2  \n",
       "1010     1.0     6.0    3.0    1.67  DTU2  \n",
       "1011     1.0     8.5    3.0    0.00  DTU2  \n",
       "\n",
       "[7432 rows x 15 columns]"
      ],
      "text/html": "<div>\n<style scoped>\n    .dataframe tbody tr th:only-of-type {\n        vertical-align: middle;\n    }\n\n    .dataframe tbody tr th {\n        vertical-align: top;\n    }\n\n    .dataframe thead th {\n        text-align: right;\n    }\n</style>\n<table border=\"1\" class=\"dataframe\">\n  <thead>\n    <tr style=\"text-align: right;\">\n      <th></th>\n      <th>session</th>\n      <th>code</th>\n      <th>group</th>\n      <th>id_in_group</th>\n      <th>round</th>\n      <th>arrival</th>\n      <th>choice</th>\n      <th>certainty</th>\n      <th>bonus</th>\n      <th>strategy</th>\n      <th>simple</th>\n      <th>cutoff</th>\n      <th>fault</th>\n      <th>payoff</th>\n      <th>exp</th>\n    </tr>\n  </thead>\n  <tbody>\n    <tr>\n      <th>0</th>\n      <td>0c0pdasz</td>\n      <td>zh74wr23</td>\n      <td>2</td>\n      <td>1</td>\n      <td>1</td>\n      <td>8.2</td>\n      <td>1</td>\n      <td>0.875</td>\n      <td>-0.13</td>\n      <td>NaN</td>\n      <td>NaN</td>\n      <td>NaN</td>\n      <td>NaN</td>\n      <td>7.89</td>\n      <td>AMT</td>\n    </tr>\n    <tr>\n      <th>1</th>\n      <td>0c0pdasz</td>\n      <td>w73mxa5y</td>\n      <td>2</td>\n      <td>2</td>\n      <td>1</td>\n      <td>8.3</td>\n      <td>1</td>\n      <td>0.875</td>\n      <td>-0.13</td>\n      <td>NaN</td>\n      <td>NaN</td>\n      <td>NaN</td>\n      <td>NaN</td>\n      <td>4.66</td>\n      <td>AMT</td>\n    </tr>\n    <tr>\n      <th>2</th>\n      <td>0c0pdasz</td>\n      <td>zh74wr23</td>\n      <td>2</td>\n      <td>1</td>\n      <td>2</td>\n      <td>8.2</td>\n      <td>0</td>\n      <td>0.500</td>\n      <td>-1.39</td>\n      <td>NaN</td>\n      <td>NaN</td>\n      <td>NaN</td>\n      <td>NaN</td>\n      <td>7.89</td>\n      <td>AMT</td>\n    </tr>\n    <tr>\n      <th>3</th>\n      <td>0c0pdasz</td>\n      <td>w73mxa5y</td>\n      <td>2</td>\n      <td>2</td>\n      <td>2</td>\n      <td>8.1</td>\n      <td>1</td>\n      <td>0.875</td>\n      <td>-4.16</td>\n      <td>NaN</td>\n      <td>NaN</td>\n      <td>NaN</td>\n      <td>NaN</td>\n      <td>4.66</td>\n      <td>AMT</td>\n    </tr>\n    <tr>\n      <th>4</th>\n      <td>0c0pdasz</td>\n      <td>zh74wr23</td>\n      <td>2</td>\n      <td>1</td>\n      <td>3</td>\n      <td>8.2</td>\n      <td>1</td>\n      <td>0.990</td>\n      <td>-0.01</td>\n      <td>NaN</td>\n      <td>NaN</td>\n      <td>NaN</td>\n      <td>NaN</td>\n      <td>7.89</td>\n      <td>AMT</td>\n    </tr>\n    <tr>\n      <th>...</th>\n      <td>...</td>\n      <td>...</td>\n      <td>...</td>\n      <td>...</td>\n      <td>...</td>\n      <td>...</td>\n      <td>...</td>\n      <td>...</td>\n      <td>...</td>\n      <td>...</td>\n      <td>...</td>\n      <td>...</td>\n      <td>...</td>\n      <td>...</td>\n      <td>...</td>\n    </tr>\n    <tr>\n      <th>1007</th>\n      <td>px95dqer</td>\n      <td>jghl3ft6</td>\n      <td>27</td>\n      <td>2</td>\n      <td>28</td>\n      <td>8.3</td>\n      <td>1</td>\n      <td>0.990</td>\n      <td>-0.01</td>\n      <td>NaN</td>\n      <td>NaN</td>\n      <td>NaN</td>\n      <td>NaN</td>\n      <td>0.00</td>\n      <td>DTU2</td>\n    </tr>\n    <tr>\n      <th>1008</th>\n      <td>px95dqer</td>\n      <td>fihx7944</td>\n      <td>27</td>\n      <td>1</td>\n      <td>29</td>\n      <td>9.0</td>\n      <td>0</td>\n      <td>0.750</td>\n      <td>-2.77</td>\n      <td>NaN</td>\n      <td>NaN</td>\n      <td>NaN</td>\n      <td>NaN</td>\n      <td>1.67</td>\n      <td>DTU2</td>\n    </tr>\n    <tr>\n      <th>1009</th>\n      <td>px95dqer</td>\n      <td>jghl3ft6</td>\n      <td>27</td>\n      <td>2</td>\n      <td>29</td>\n      <td>8.5</td>\n      <td>1</td>\n      <td>0.990</td>\n      <td>-9.21</td>\n      <td>NaN</td>\n      <td>NaN</td>\n      <td>NaN</td>\n      <td>NaN</td>\n      <td>0.00</td>\n      <td>DTU2</td>\n    </tr>\n    <tr>\n      <th>1010</th>\n      <td>px95dqer</td>\n      <td>fihx7944</td>\n      <td>27</td>\n      <td>1</td>\n      <td>30</td>\n      <td>9.0</td>\n      <td>0</td>\n      <td>0.750</td>\n      <td>-2.77</td>\n      <td>Only choosing office if I arrived at 9:00 or 9:10</td>\n      <td>1.0</td>\n      <td>6.0</td>\n      <td>3.0</td>\n      <td>1.67</td>\n      <td>DTU2</td>\n    </tr>\n    <tr>\n      <th>1011</th>\n      <td>px95dqer</td>\n      <td>jghl3ft6</td>\n      <td>27</td>\n      <td>2</td>\n      <td>30</td>\n      <td>8.5</td>\n      <td>1</td>\n      <td>0.875</td>\n      <td>-4.16</td>\n      <td>Well, that's sad</td>\n      <td>1.0</td>\n      <td>8.5</td>\n      <td>3.0</td>\n      <td>0.00</td>\n      <td>DTU2</td>\n    </tr>\n  </tbody>\n</table>\n<p>7432 rows × 15 columns</p>\n</div>"
     },
     "metadata": {},
     "execution_count": 19
    }
   ],
   "source": [
    "\n",
    "df = df_AMT\n",
    "df = df.append(df_DTU1)\n",
    "df = df.append(df_DTU2)\n",
    "df"
   ]
  },
  {
   "cell_type": "code",
   "execution_count": 22,
   "metadata": {},
   "outputs": [],
   "source": [
    "df.to_excel(\"../Data/data.xlsx\") \n",
    "df.to_csv('../Data/data.csv')"
   ]
  },
  {
   "cell_type": "code",
   "execution_count": null,
   "metadata": {},
   "outputs": [],
   "source": []
  }
 ],
 "metadata": {
  "kernelspec": {
   "name": "python391jvsc74a57bd0ad13da7fe60a622ea12b0c251a970ea6ba341bad5a0320a904aeca6b05f4a9e4",
   "display_name": "Python 3.9.1 64-bit"
  },
  "language_info": {
   "codemirror_mode": {
    "name": "ipython",
    "version": 3
   },
   "file_extension": ".py",
   "mimetype": "text/x-python",
   "name": "python",
   "nbconvert_exporter": "python",
   "pygments_lexer": "ipython3",
   "version": "3.9.1"
  },
  "metadata": {
   "interpreter": {
    "hash": "ad13da7fe60a622ea12b0c251a970ea6ba341bad5a0320a904aeca6b05f4a9e4"
   }
  }
 },
 "nbformat": 4,
 "nbformat_minor": 4
}