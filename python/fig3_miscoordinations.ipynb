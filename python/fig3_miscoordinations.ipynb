{
 "cells": [
  {
   "cell_type": "code",
   "execution_count": 1,
   "metadata": {},
   "outputs": [],
   "source": [
    "import os\n",
    "import numpy as np\n",
    "import pandas as pd\n",
    "import matplotlib.pyplot as plt\n",
    "plt.rcParams[\"font.family\"] = \"sans-serif\"\n",
    "PLOTS_DIR = '../plots'"
   ]
  },
  {
   "cell_type": "code",
   "execution_count": 2,
   "metadata": {},
   "outputs": [],
   "source": [
    "datafiles = [\n",
    "             '../data/MTurk_anonymous.xlsx',\n",
    "             '../data/DTU1_anonymous.xlsx',\n",
    "             '../data/DTU2_anonymous.xlsx'\n",
    "]"
   ]
  },
  {
   "cell_type": "code",
   "execution_count": 3,
   "metadata": {},
   "outputs": [],
   "source": [
    "df_all = pd.DataFrame()\n",
    "for datafile in datafiles:\n",
    "    df = pd.DataFrame(pd.read_excel(datafile))\n",
    "    df_all = df_all.append(df, sort=True)"
   ]
  },
  {
   "cell_type": "code",
   "execution_count": 4,
   "metadata": {},
   "outputs": [],
   "source": [
    "df = df_all.groupby(['session', 'group', 'round'], as_index=False)[['arrival', 'choice']].agg(lambda x: np.mean(x))"
   ]
  },
  {
   "cell_type": "code",
   "execution_count": 5,
   "metadata": {},
   "outputs": [
    {
     "data": {
      "text/html": [
       "<div>\n",
       "<style scoped>\n",
       "    .dataframe tbody tr th:only-of-type {\n",
       "        vertical-align: middle;\n",
       "    }\n",
       "\n",
       "    .dataframe tbody tr th {\n",
       "        vertical-align: top;\n",
       "    }\n",
       "\n",
       "    .dataframe thead th {\n",
       "        text-align: right;\n",
       "    }\n",
       "</style>\n",
       "<table border=\"1\" class=\"dataframe\">\n",
       "  <thead>\n",
       "    <tr style=\"text-align: right;\">\n",
       "      <th></th>\n",
       "      <th>session</th>\n",
       "      <th>group</th>\n",
       "      <th>round</th>\n",
       "      <th>arrival</th>\n",
       "      <th>choice</th>\n",
       "    </tr>\n",
       "  </thead>\n",
       "  <tbody>\n",
       "    <tr>\n",
       "      <th>0</th>\n",
       "      <td>0c0pdasz</td>\n",
       "      <td>2</td>\n",
       "      <td>1</td>\n",
       "      <td>8.25</td>\n",
       "      <td>1.0</td>\n",
       "    </tr>\n",
       "    <tr>\n",
       "      <th>1</th>\n",
       "      <td>0c0pdasz</td>\n",
       "      <td>2</td>\n",
       "      <td>2</td>\n",
       "      <td>8.15</td>\n",
       "      <td>0.5</td>\n",
       "    </tr>\n",
       "    <tr>\n",
       "      <th>2</th>\n",
       "      <td>0c0pdasz</td>\n",
       "      <td>2</td>\n",
       "      <td>3</td>\n",
       "      <td>8.25</td>\n",
       "      <td>1.0</td>\n",
       "    </tr>\n",
       "    <tr>\n",
       "      <th>3</th>\n",
       "      <td>0c0pdasz</td>\n",
       "      <td>2</td>\n",
       "      <td>4</td>\n",
       "      <td>8.45</td>\n",
       "      <td>1.0</td>\n",
       "    </tr>\n",
       "    <tr>\n",
       "      <th>4</th>\n",
       "      <td>0c0pdasz</td>\n",
       "      <td>2</td>\n",
       "      <td>5</td>\n",
       "      <td>9.05</td>\n",
       "      <td>0.0</td>\n",
       "    </tr>\n",
       "  </tbody>\n",
       "</table>\n",
       "</div>"
      ],
      "text/plain": [
       "    session  group  round  arrival  choice\n",
       "0  0c0pdasz      2      1     8.25     1.0\n",
       "1  0c0pdasz      2      2     8.15     0.5\n",
       "2  0c0pdasz      2      3     8.25     1.0\n",
       "3  0c0pdasz      2      4     8.45     1.0\n",
       "4  0c0pdasz      2      5     9.05     0.0"
      ]
     },
     "execution_count": 5,
     "metadata": {},
     "output_type": "execute_result"
    }
   ],
   "source": [
    "df.head()"
   ]
  },
  {
   "cell_type": "code",
   "execution_count": 6,
   "metadata": {},
   "outputs": [
    {
     "name": "stdout",
     "output_type": "stream",
     "text": [
      "[3, 6, 9, 8, 41, 280, 362] [44, 31, 36, 62, 259, 257, 89] [403, 516, 547, 454, 266, 30, 13]\n"
     ]
    }
   ],
   "source": [
    "office = []\n",
    "mis = []\n",
    "canteen = []\n",
    "for arrival in sorted(df.arrival.unique()):\n",
    "    office.append(len([1 for i in df[df.arrival == arrival].choice.values if i == 0.]))\n",
    "    mis.append(len([1 for i in df[df.arrival == arrival].choice.values if i == 0.5]))\n",
    "    canteen.append(len([1 for i in df[df.arrival == arrival].choice.values if i == 1.]))\n",
    "print(office, mis, canteen)"
   ]
  },
  {
   "cell_type": "code",
   "execution_count": 7,
   "metadata": {},
   "outputs": [
    {
     "data": {
      "image/png": "[encoded data removed]",
      "text/plain": [
       "<Figure size 432x288 with 1 Axes>"
      ]
     },
     "metadata": {
      "needs_background": "light"
     },
     "output_type": "display_data"
    }
   ],
   "source": [
    "x = np.arange(7) # number of arrival times\n",
    "barWidth = 0.85\n",
    "names = ('8:00/8:10','8:10/8:20','8:20/8:30','8:30/8:40','8:40/8:50', '8:50/9:00', '9:00/9:10')\n",
    "coord = np.add(office, mis).tolist()\n",
    "plt.bar(x, office, color='#6a51a3', edgecolor='white', width=barWidth)\n",
    "plt.bar(x, mis, bottom=office, color='#de2d26', edgecolor='white', width=barWidth)\n",
    "plt.bar(x, canteen, bottom=coord, color='#2d7f5e', edgecolor='white', width=barWidth)\n",
    "plt.xticks(x, names, fontsize=12, rotation=45)\n",
    "plt.yticks(fontsize=12)\n",
    "plt.xlabel(\"arrival time\", fontsize=14)\n",
    "plt.ylabel(\"number of choices (n)\", fontsize=14)\n",
    "plt.tight_layout()\n",
    "\n",
    "if not os.path.exists(PLOTS_DIR):\n",
    "    os.makedirs(PLOTS_DIR)\n",
    "\n",
    "plt.savefig(os.path.join(PLOTS_DIR, 'fig3_miscoordinations.png'),\n",
    "            bbox_inches='tight', transparent=True, dpi=300)\n",
    "plt.savefig(os.path.join(PLOTS_DIR, 'fig3_miscoordinations.pdf'), transparent=True, dpi=300)"
   ]
  },
  {
   "cell_type": "code",
   "execution_count": null,
   "metadata": {},
   "outputs": [],
   "source": []
  }
 ],
 "metadata": {
  "kernelspec": {
   "display_name": "Python 3",
   "language": "python",
   "name": "python3"
  },
  "language_info": {
   "codemirror_mode": {
    "name": "ipython",
    "version": 3
   },
   "file_extension": ".py",
   "mimetype": "text/x-python",
   "name": "python",
   "nbconvert_exporter": "python",
   "pygments_lexer": "ipython3",
   "version": "3.7.3"
  }
 },
 "nbformat": 4,
 "nbformat_minor": 4
}
