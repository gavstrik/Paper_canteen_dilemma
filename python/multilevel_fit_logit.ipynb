{
 "cells": [
  {
   "cell_type": "code",
   "execution_count": 1,
   "metadata": {},
   "outputs": [
    {
     "name": "stderr",
     "output_type": "stream",
     "text": [
      "c:\\users\\hjl161\\appdata\\local\\programs\\python\\python37\\lib\\site-packages\\statsmodels\\tools\\_testing.py:19: FutureWarning: pandas.util.testing is deprecated. Use the functions in the public API at pandas.testing instead.\n",
      "  import pandas.util.testing as tm\n"
     ]
    }
   ],
   "source": [
    "%matplotlib inline\n",
    "import io\n",
    "import os\n",
    "import matplotlib.pyplot as plt\n",
    "import matplotlib.patches as patch\n",
    "import pandas as pd\n",
    "import numpy as np\n",
    "import seaborn as sns\n",
    "sns.set_style('white')\n",
    "sns.set_context('notebook')"
   ]
  },
  {
   "cell_type": "code",
   "execution_count": 2,
   "metadata": {},
   "outputs": [],
   "source": [
    "datafile_AMT = '../data/MTurk_anonymous.xlsx'\n",
    "datafile_DTU1 = '../data/DTU1_anonymous.xlsx'\n",
    "datafile_DTU2 = '../data/DTU2_anonymous.xlsx'"
   ]
  },
  {
   "cell_type": "markdown",
   "metadata": {},
   "source": [
    "Load the data into three dataframes:"
   ]
  },
  {
   "cell_type": "code",
   "execution_count": 3,
   "metadata": {},
   "outputs": [],
   "source": [
    "df_MTurk = pd.DataFrame(pd.read_excel(datafile_AMT))\n",
    "df_MTurk.drop(df_MTurk.columns[df_MTurk.columns.str.contains('unnamed',case = False)],axis = 1, inplace = True)\n",
    "df_DTU1 = pd.DataFrame(pd.read_excel(datafile_DTU1))\n",
    "df_DTU1.drop(df_DTU1.columns[df_DTU1.columns.str.contains('unnamed',case = False)],axis = 1, inplace = True)\n",
    "df_DTU2 = pd.DataFrame(pd.read_excel(datafile_DTU2))\n",
    "df_DTU2.drop(df_DTU2.columns[df_DTU2.columns.str.contains('unnamed',case = False)],axis = 1, inplace = True)"
   ]
  },
  {
   "cell_type": "code",
   "execution_count": 4,
   "metadata": {},
   "outputs": [
    {
     "data": {
      "text/html": [
       "<div>\n",
       "<style scoped>\n",
       "    .dataframe tbody tr th:only-of-type {\n",
       "        vertical-align: middle;\n",
       "    }\n",
       "\n",
       "    .dataframe tbody tr th {\n",
       "        vertical-align: top;\n",
       "    }\n",
       "\n",
       "    .dataframe thead th {\n",
       "        text-align: right;\n",
       "    }\n",
       "</style>\n",
       "<table border=\"1\" class=\"dataframe\">\n",
       "  <thead>\n",
       "    <tr style=\"text-align: right;\">\n",
       "      <th></th>\n",
       "      <th>session</th>\n",
       "      <th>code</th>\n",
       "      <th>group</th>\n",
       "      <th>id_in_group</th>\n",
       "      <th>round</th>\n",
       "      <th>arrival</th>\n",
       "      <th>choice</th>\n",
       "      <th>certainty</th>\n",
       "      <th>bonus</th>\n",
       "      <th>strategy</th>\n",
       "      <th>simple</th>\n",
       "      <th>cutoff</th>\n",
       "      <th>fault</th>\n",
       "      <th>payoff</th>\n",
       "    </tr>\n",
       "  </thead>\n",
       "  <tbody>\n",
       "    <tr>\n",
       "      <th>0</th>\n",
       "      <td>0c0pdasz</td>\n",
       "      <td>zh74wr23</td>\n",
       "      <td>2</td>\n",
       "      <td>1</td>\n",
       "      <td>1</td>\n",
       "      <td>8.2</td>\n",
       "      <td>1</td>\n",
       "      <td>0.875</td>\n",
       "      <td>-0.13</td>\n",
       "      <td>NaN</td>\n",
       "      <td>NaN</td>\n",
       "      <td>NaN</td>\n",
       "      <td>NaN</td>\n",
       "      <td>7.89</td>\n",
       "    </tr>\n",
       "    <tr>\n",
       "      <th>1</th>\n",
       "      <td>0c0pdasz</td>\n",
       "      <td>w73mxa5y</td>\n",
       "      <td>2</td>\n",
       "      <td>2</td>\n",
       "      <td>1</td>\n",
       "      <td>8.3</td>\n",
       "      <td>1</td>\n",
       "      <td>0.875</td>\n",
       "      <td>-0.13</td>\n",
       "      <td>NaN</td>\n",
       "      <td>NaN</td>\n",
       "      <td>NaN</td>\n",
       "      <td>NaN</td>\n",
       "      <td>4.66</td>\n",
       "    </tr>\n",
       "    <tr>\n",
       "      <th>2</th>\n",
       "      <td>0c0pdasz</td>\n",
       "      <td>zh74wr23</td>\n",
       "      <td>2</td>\n",
       "      <td>1</td>\n",
       "      <td>2</td>\n",
       "      <td>8.2</td>\n",
       "      <td>0</td>\n",
       "      <td>0.500</td>\n",
       "      <td>-1.39</td>\n",
       "      <td>NaN</td>\n",
       "      <td>NaN</td>\n",
       "      <td>NaN</td>\n",
       "      <td>NaN</td>\n",
       "      <td>7.89</td>\n",
       "    </tr>\n",
       "    <tr>\n",
       "      <th>3</th>\n",
       "      <td>0c0pdasz</td>\n",
       "      <td>w73mxa5y</td>\n",
       "      <td>2</td>\n",
       "      <td>2</td>\n",
       "      <td>2</td>\n",
       "      <td>8.1</td>\n",
       "      <td>1</td>\n",
       "      <td>0.875</td>\n",
       "      <td>-4.16</td>\n",
       "      <td>NaN</td>\n",
       "      <td>NaN</td>\n",
       "      <td>NaN</td>\n",
       "      <td>NaN</td>\n",
       "      <td>4.66</td>\n",
       "    </tr>\n",
       "    <tr>\n",
       "      <th>4</th>\n",
       "      <td>0c0pdasz</td>\n",
       "      <td>zh74wr23</td>\n",
       "      <td>2</td>\n",
       "      <td>1</td>\n",
       "      <td>3</td>\n",
       "      <td>8.2</td>\n",
       "      <td>1</td>\n",
       "      <td>0.990</td>\n",
       "      <td>-0.01</td>\n",
       "      <td>NaN</td>\n",
       "      <td>NaN</td>\n",
       "      <td>NaN</td>\n",
       "      <td>NaN</td>\n",
       "      <td>7.89</td>\n",
       "    </tr>\n",
       "  </tbody>\n",
       "</table>\n",
       "</div>"
      ],
      "text/plain": [
       "    session      code  group  id_in_group  round  arrival  choice  certainty  \\\n",
       "0  0c0pdasz  zh74wr23      2            1      1      8.2       1      0.875   \n",
       "1  0c0pdasz  w73mxa5y      2            2      1      8.3       1      0.875   \n",
       "2  0c0pdasz  zh74wr23      2            1      2      8.2       0      0.500   \n",
       "3  0c0pdasz  w73mxa5y      2            2      2      8.1       1      0.875   \n",
       "4  0c0pdasz  zh74wr23      2            1      3      8.2       1      0.990   \n",
       "\n",
       "   bonus strategy  simple  cutoff  fault  payoff  \n",
       "0  -0.13      NaN     NaN     NaN    NaN    7.89  \n",
       "1  -0.13      NaN     NaN     NaN    NaN    4.66  \n",
       "2  -1.39      NaN     NaN     NaN    NaN    7.89  \n",
       "3  -4.16      NaN     NaN     NaN    NaN    4.66  \n",
       "4  -0.01      NaN     NaN     NaN    NaN    7.89  "
      ]
     },
     "execution_count": 4,
     "metadata": {},
     "output_type": "execute_result"
    }
   ],
   "source": [
    "df_MTurk.head()"
   ]
  },
  {
   "cell_type": "code",
   "execution_count": 5,
   "metadata": {},
   "outputs": [
    {
     "data": {
      "text/plain": [
       "(4260, 2160, 1012)"
      ]
     },
     "execution_count": 5,
     "metadata": {},
     "output_type": "execute_result"
    }
   ],
   "source": [
    "dfm = df_MTurk[['arrival', 'choice']]\n",
    "dfd1 = df_DTU1[['arrival', 'choice']]\n",
    "dfd2 = df_DTU2[['arrival', 'choice']]\n",
    "len(dfm), len(dfd1), len(dfd2)"
   ]
  },
  {
   "cell_type": "markdown",
   "metadata": {},
   "source": [
    "Replace arrival times so that they are equidistant numbers and counted in minutes from 8am:"
   ]
  },
  {
   "cell_type": "code",
   "execution_count": 6,
   "metadata": {},
   "outputs": [
    {
     "name": "stderr",
     "output_type": "stream",
     "text": [
      "c:\\users\\hjl161\\appdata\\local\\programs\\python\\python37\\lib\\site-packages\\pandas\\core\\generic.py:6746: SettingWithCopyWarning: \n",
      "A value is trying to be set on a copy of a slice from a DataFrame\n",
      "\n",
      "See the caveats in the documentation: https://pandas.pydata.org/pandas-docs/stable/user_guide/indexing.html#returning-a-view-versus-a-copy\n",
      "  self._update_inplace(new_data)\n",
      "c:\\users\\hjl161\\appdata\\local\\programs\\python\\python37\\lib\\site-packages\\ipykernel_launcher.py:2: SettingWithCopyWarning: \n",
      "A value is trying to be set on a copy of a slice from a DataFrame.\n",
      "Try using .loc[row_indexer,col_indexer] = value instead\n",
      "\n",
      "See the caveats in the documentation: https://pandas.pydata.org/pandas-docs/stable/user_guide/indexing.html#returning-a-view-versus-a-copy\n",
      "  \n",
      "c:\\users\\hjl161\\appdata\\local\\programs\\python\\python37\\lib\\site-packages\\ipykernel_launcher.py:3: SettingWithCopyWarning: \n",
      "A value is trying to be set on a copy of a slice from a DataFrame.\n",
      "Try using .loc[row_indexer,col_indexer] = value instead\n",
      "\n",
      "See the caveats in the documentation: https://pandas.pydata.org/pandas-docs/stable/user_guide/indexing.html#returning-a-view-versus-a-copy\n",
      "  This is separate from the ipykernel package so we can avoid doing imports until\n",
      "c:\\users\\hjl161\\appdata\\local\\programs\\python\\python37\\lib\\site-packages\\ipykernel_launcher.py:5: SettingWithCopyWarning: \n",
      "A value is trying to be set on a copy of a slice from a DataFrame.\n",
      "Try using .loc[row_indexer,col_indexer] = value instead\n",
      "\n",
      "See the caveats in the documentation: https://pandas.pydata.org/pandas-docs/stable/user_guide/indexing.html#returning-a-view-versus-a-copy\n",
      "  \"\"\"\n",
      "c:\\users\\hjl161\\appdata\\local\\programs\\python\\python37\\lib\\site-packages\\ipykernel_launcher.py:6: SettingWithCopyWarning: \n",
      "A value is trying to be set on a copy of a slice from a DataFrame.\n",
      "Try using .loc[row_indexer,col_indexer] = value instead\n",
      "\n",
      "See the caveats in the documentation: https://pandas.pydata.org/pandas-docs/stable/user_guide/indexing.html#returning-a-view-versus-a-copy\n",
      "  \n",
      "c:\\users\\hjl161\\appdata\\local\\programs\\python\\python37\\lib\\site-packages\\ipykernel_launcher.py:8: SettingWithCopyWarning: \n",
      "A value is trying to be set on a copy of a slice from a DataFrame.\n",
      "Try using .loc[row_indexer,col_indexer] = value instead\n",
      "\n",
      "See the caveats in the documentation: https://pandas.pydata.org/pandas-docs/stable/user_guide/indexing.html#returning-a-view-versus-a-copy\n",
      "  \n",
      "c:\\users\\hjl161\\appdata\\local\\programs\\python\\python37\\lib\\site-packages\\ipykernel_launcher.py:9: SettingWithCopyWarning: \n",
      "A value is trying to be set on a copy of a slice from a DataFrame.\n",
      "Try using .loc[row_indexer,col_indexer] = value instead\n",
      "\n",
      "See the caveats in the documentation: https://pandas.pydata.org/pandas-docs/stable/user_guide/indexing.html#returning-a-view-versus-a-copy\n",
      "  if __name__ == '__main__':\n"
     ]
    }
   ],
   "source": [
    "dfm['arrival'].replace({9.0: 8.6, 9.1: 8.7}, inplace=True)\n",
    "dfm['arrival'] = dfm['arrival'] - 8\n",
    "dfm['arrival'] = dfm['arrival'] * 100\n",
    "dfd1['arrival'].replace({9.0: 8.6, 9.1: 8.7}, inplace=True)\n",
    "dfd1['arrival'] = dfd1['arrival'] - 8\n",
    "dfd1['arrival'] = dfd1['arrival'] * 100\n",
    "dfd2['arrival'].replace({9.0: 8.6, 9.1: 8.7}, inplace=True)\n",
    "dfd2['arrival'] = dfd2['arrival'] - 8\n",
    "dfd2['arrival'] = dfd2['arrival'] * 100"
   ]
  },
  {
   "cell_type": "markdown",
   "metadata": {},
   "source": [
    "In order to make multiple regressions in one plot, we need to concatenate the dataframes and use seaborns FacetGrid function:"
   ]
  },
  {
   "cell_type": "code",
   "execution_count": 7,
   "metadata": {},
   "outputs": [
    {
     "data": {
      "text/plain": [
       "7432"
      ]
     },
     "execution_count": 7,
     "metadata": {},
     "output_type": "execute_result"
    }
   ],
   "source": [
    "df = pd.concat([dfm.join(pd.Series(['dfm']*len(dfm), name='group')), \n",
    "                dfd1.join(pd.Series(['dfd1']*len(dfd1), name='group')),\n",
    "                dfd2.join(pd.Series(['dfd2']*len(dfd2), name='group'))],\n",
    "                ignore_index=True)\n",
    "df.head()\n",
    "len(df)"
   ]
  },
  {
   "cell_type": "markdown",
   "metadata": {},
   "source": [
    "The logistic regression takes longer time with confidence intervals due to the bootstrapping. Set n_boot to 10000 for the final plot."
   ]
  },
  {
   "cell_type": "code",
   "execution_count": 8,
   "metadata": {},
   "outputs": [
    {
     "data": {
      "image/png": "[encoded data removed]",
      "text/plain": [
       "<Figure size 324x216 with 1 Axes>"
      ]
     },
     "metadata": {
      "needs_background": "light"
     },
     "output_type": "display_data"
    }
   ],
   "source": [
    "pal = dict(dfm=\"blue\", dfd1=\"orange\", dfd2=\"green\")\n",
    "g = sns.lmplot(x=\"arrival\", y=\"choice\", hue=\"group\", data=df, palette=pal, \n",
    "               logistic=True, ci=95, n_boot=10000, x_estimator=np.mean, x_ci=\"ci\",\n",
    "               y_jitter=.2, legend=False, height=3, aspect=1.5)\n",
    "\n",
    "#plt.setp(g.lines, alpha=1) # setting translucency of CI to zero\n",
    "g.set(xlim=(-2, 72))\n",
    "g.set(ylabel='frequency of canteen choice')\n",
    "g.set(xticks=[0,10,20,30,40,50,60,70], yticks=[0, .1,.2,.3,.4,.5,.6,.7,.8,.9, 1])\n",
    "g.set(xticklabels = [\"8:00\", \"8:10\", \"8:20\", \"8:30\", \"8:40\", \"8:50\", \"9:00\", \"9:10\"])\n",
    "\n",
    "# make my own legend:\n",
    "name_to_color = {\n",
    "    'MTurk (n=4260)': 'blue',\n",
    "    'DTU1  (n=2160)': 'orange',\n",
    "    'DTU2  (n=1012)': 'green',\n",
    "}\n",
    "patches = [patch.Patch(color=v, label=k) for k,v in name_to_color.items()]\n",
    "plt.legend(handles=patches, loc='lower left')\n",
    "plt.tight_layout()\n",
    "\n",
    "plt.rcParams[\"font.family\"] = \"sans-serif\"\n",
    "PLOTS_DIR = '../plots'\n",
    "\n",
    "if not os.path.exists(PLOTS_DIR):\n",
    "    os.makedirs(PLOTS_DIR)\n",
    "\n",
    "plt.savefig(os.path.join(PLOTS_DIR, 'fig1_logit.png'),\n",
    "            bbox_inches='tight', transparent=True, dpi=300)\n",
    "plt.savefig(os.path.join(PLOTS_DIR, 'fig1_logit.pdf'), transparent=True, dpi=300)\n",
    "sns.despine()"
   ]
  },
  {
   "cell_type": "code",
   "execution_count": null,
   "metadata": {},
   "outputs": [],
   "source": []
  }
 ],
 "metadata": {
  "kernelspec": {
   "display_name": "Python 3",
   "language": "python",
   "name": "python3"
  },
  "language_info": {
   "codemirror_mode": {
    "name": "ipython",
    "version": 3
   },
   "file_extension": ".py",
   "mimetype": "text/x-python",
   "name": "python",
   "nbconvert_exporter": "python",
   "pygments_lexer": "ipython3",
   "version": "3.8.5"
  }
 },
 "nbformat": 4,
 "nbformat_minor": 4
}